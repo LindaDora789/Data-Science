{
  "nbformat": 4,
  "nbformat_minor": 0,
  "metadata": {
    "colab": {
      "name": "WoW-PvP-3v3-Leaderboards-EDA.ipynb",
      "provenance": [],
      "collapsed_sections": [
        "Z8Js734ab_d9",
        "LDFjyvdSpuKA",
        "jcErIjcxqRu-"
      ],
      "authorship_tag": "ABX9TyNEPEkeQNoErlYz2a8RHD2X",
      "include_colab_link": true
    },
    "kernelspec": {
      "name": "python3",
      "display_name": "Python 3"
    },
    "language_info": {
      "name": "python"
    }
  },
  "cells": [
    {
      "cell_type": "markdown",
      "metadata": {
        "id": "view-in-github",
        "colab_type": "text"
      },
      "source": [
        "<a href=\"https://colab.research.google.com/github/Deauth-Eater/Divination/blob/main/WoW-PvP-3v3-Leaderboards-EDA.ipynb\" target=\"_parent\"><img src=\"https://colab.research.google.com/assets/colab-badge.svg\" alt=\"Open In Colab\"/></a>"
      ]
    },
    {
      "cell_type": "code",
      "execution_count": 1,
      "metadata": {
        "id": "ltUfncYMY9ba"
      },
      "outputs": [],
      "source": [
        "import numpy as np\n",
        "import pandas as pd\n",
        "import seaborn as sns\n",
        "from matplotlib import pyplot as plt"
      ]
    },
    {
      "cell_type": "code",
      "source": [
        "CLIENT_ID = \"\"\n",
        "CLIENT_SECRET = \"\"\n",
        "REGION = \"eu\" #\"us\"\n",
        "LOCALE = \"en_GB\" #\"en_US\""
      ],
      "metadata": {
        "id": "k6Eb8yQCcQUm"
      },
      "execution_count": 30,
      "outputs": []
    },
    {
      "cell_type": "code",
      "source": [
        "#!pip install python-blizzardapi"
      ],
      "metadata": {
        "id": "6Yz0yXB1GpLf"
      },
      "execution_count": 3,
      "outputs": []
    },
    {
      "cell_type": "code",
      "source": [
        "from blizzardapi import BlizzardApi\n",
        "api_client = BlizzardApi(CLIENT_ID, CLIENT_SECRET)"
      ],
      "metadata": {
        "id": "rayWuSeRb1FE"
      },
      "execution_count": 4,
      "outputs": []
    },
    {
      "cell_type": "markdown",
      "source": [
        "## Part 1: Gather & Store Data"
      ],
      "metadata": {
        "id": "Z8Js734ab_d9"
      }
    },
    {
      "cell_type": "code",
      "source": [
        "def get_season_ids():\n",
        "  season_ids=[]\n",
        "  \n",
        "  response = api_client.wow.game_data.get_pvp_seasons_index(region=REGION,\n",
        "                                                            locale=LOCALE)\n",
        "  for season in response['seasons']:\n",
        "    season_ids.append(season['id'])\n",
        "\n",
        "  return season_ids\n",
        "\n",
        "season_ids = get_season_ids()"
      ],
      "metadata": {
        "id": "iLLudU4Yenqv"
      },
      "execution_count": 5,
      "outputs": []
    },
    {
      "cell_type": "code",
      "source": [
        "def get_leaderboard(season_id,bracket):\n",
        "  name,realm,faction,rank,rating,played,won,lost,tier_id = ([] for i in range(9))\n",
        "\n",
        "  response = api_client.wow.game_data.get_pvp_leaderboard(region=REGION,\n",
        "                                                          locale=LOCALE,\n",
        "                                                          pvp_season_id=season_id,\n",
        "                                                          pvp_bracket=bracket)\n",
        "  try:\n",
        "    for entry in response['entries']:\n",
        "      name.append(entry['character']['name'].lower())\n",
        "      realm.append(entry['character']['realm']['slug'])\n",
        "      faction.append(entry['faction']['type'].lower())\n",
        "      rank.append(entry['rank'])\n",
        "      rating.append(entry['rating'])\n",
        "      played.append(entry['season_match_statistics']['played'])\n",
        "      won.append(entry['season_match_statistics']['won'])\n",
        "      lost.append(entry['season_match_statistics']['lost'])\n",
        "      tier_id.append(entry['tier']['id'])\n",
        "  except KeyError:\n",
        "    pass\n",
        "      \n",
        "  leaderboard = pd.DataFrame(list(zip(name,realm,faction,rank,rating,\n",
        "                                      played,won,lost,tier_id)),\n",
        "                            columns=['name','realm','faction','rank','rating',\n",
        "                                     'played','won','lost','tier_id'])\n",
        "  \n",
        "  leaderboard['season_id'] = season_id\n",
        "  \n",
        "  return leaderboard"
      ],
      "metadata": {
        "id": "09wDRdZ7dIWa"
      },
      "execution_count": 6,
      "outputs": []
    },
    {
      "cell_type": "code",
      "source": [
        "leaderboards = pd.DataFrame(columns=['name','realm','faction','rank','rating',\n",
        "                                     'played','won','lost','tier_id','season_id'])"
      ],
      "metadata": {
        "id": "nq0b3eeCegn0"
      },
      "execution_count": 7,
      "outputs": []
    },
    {
      "cell_type": "code",
      "source": [
        "for season_id in season_ids:\n",
        "  leaderboards = pd.concat([get_leaderboard(season_id,\"3v3\"),\n",
        "                            leaderboards], axis=0)"
      ],
      "metadata": {
        "id": "2R7apX5akSFd"
      },
      "execution_count": 8,
      "outputs": []
    },
    {
      "cell_type": "code",
      "source": [
        "tiers_index = api_client.wow.game_data.get_pvp_tiers_index(region=REGION,\n",
        "                                                           locale=LOCALE)['tiers']\n",
        "def get_tier(tier_id):\n",
        "  for tier in tiers_index:\n",
        "    if tier['id'] == tier_id:\n",
        "      return tier['name']\n",
        "\n",
        "leaderboards['tier'] = np.vectorize(get_tier)(leaderboards['tier_id'])"
      ],
      "metadata": {
        "id": "vSYl8Lvc3uUx"
      },
      "execution_count": 9,
      "outputs": []
    },
    {
      "cell_type": "code",
      "source": [
        "def get_class(realm,name):\n",
        "  response = api_client.wow.profile.get_character_profile_summary(region=REGION,\n",
        "                                                                  locale=LOCALE,\n",
        "                                                                  realm_slug=realm,\n",
        "                                                                  character_name=name)\n",
        "  try:\n",
        "    return response['character_class']['name'].lower()\n",
        "  except KeyError:\n",
        "    return pd.NA\n",
        "\n",
        "#leaderboards['class'] = np.vectorize(get_class)(leaderboards['realm'],leaderboards['name'])"
      ],
      "metadata": {
        "id": "m07TFVBYubE_"
      },
      "execution_count": 10,
      "outputs": []
    },
    {
      "cell_type": "code",
      "source": [
        "leaderboards.to_csv('leaderboards.csv',index=False)"
      ],
      "metadata": {
        "id": "HHrDfDtcEYj9"
      },
      "execution_count": 11,
      "outputs": []
    },
    {
      "cell_type": "markdown",
      "source": [
        "## Part 2: Clean & Organize Data"
      ],
      "metadata": {
        "id": "LDFjyvdSpuKA"
      }
    },
    {
      "cell_type": "code",
      "source": [
        "leaderboards = pd.read_csv('leaderboards.csv')"
      ],
      "metadata": {
        "id": "b8Pxvzd1EgSS"
      },
      "execution_count": 12,
      "outputs": []
    },
    {
      "cell_type": "code",
      "source": [
        "leaderboards = leaderboards.drop('tier_id',axis=1)"
      ],
      "metadata": {
        "id": "-xUFdZTp6bVe"
      },
      "execution_count": 13,
      "outputs": []
    },
    {
      "cell_type": "code",
      "source": [
        "leaderboards['win_rate'] = round(leaderboards['won']/leaderboards['played']*100,1)"
      ],
      "metadata": {
        "id": "ipCFOWmK0lc-"
      },
      "execution_count": 14,
      "outputs": []
    },
    {
      "cell_type": "markdown",
      "source": [
        "## Part 3: EDA"
      ],
      "metadata": {
        "id": "jcErIjcxqRu-"
      }
    },
    {
      "cell_type": "markdown",
      "source": [
        "### What does the dataset look like?"
      ],
      "metadata": {
        "id": "nhxRucK4xwyQ"
      }
    },
    {
      "cell_type": "code",
      "source": [
        "leaderboards"
      ],
      "metadata": {
        "id": "UNC1XhtgNEHJ",
        "colab": {
          "base_uri": "https://localhost:8080/",
          "height": 424
        },
        "outputId": "ad044d34-9d13-49e3-f91c-d394ec0d3b4e"
      },
      "execution_count": 15,
      "outputs": [
        {
          "output_type": "execute_result",
          "data": {
            "text/plain": [
              "              name       realm   faction  rank  rating  played  won  lost  \\\n",
              "0          sadhole      kazzak     horde     1    2606     173  124    49   \n",
              "1           whaazz  ravencrest  alliance     2    2605      84   78     6   \n",
              "2      iniquitatem  ravencrest  alliance     2    2605      84   78     6   \n",
              "3            raíku  ravencrest  alliance     2    2605      84   78     6   \n",
              "4          fnoberz  ravencrest     horde     5    2596     120   81    39   \n",
              "...            ...         ...       ...   ...     ...     ...  ...   ...   \n",
              "30079        ktdos  ravencrest  alliance  4995    2159     186  100    86   \n",
              "30080     dotpixel  stormscale     horde  4995    2159     366  196   170   \n",
              "30081        tokyø     outland  alliance  4995    2159     599  313   286   \n",
              "30082          enô   blackrock     horde  4995    2159     393  201   192   \n",
              "30083      páradox  stormscale     horde  4995    2159     808  399   409   \n",
              "\n",
              "       season_id     tier  win_rate  \n",
              "0             32    Elite      71.7  \n",
              "1             32    Elite      92.9  \n",
              "2             32    Elite      92.9  \n",
              "3             32    Elite      92.9  \n",
              "4             32    Elite      67.5  \n",
              "...          ...      ...       ...  \n",
              "30079         27  Duelist      53.8  \n",
              "30080         27  Duelist      53.6  \n",
              "30081         27  Duelist      52.3  \n",
              "30082         27  Duelist      51.1  \n",
              "30083         27  Duelist      49.4  \n",
              "\n",
              "[30084 rows x 11 columns]"
            ],
            "text/html": [
              "\n",
              "  <div id=\"df-3e139242-aa2e-4a9d-963c-d1768bf6f32d\">\n",
              "    <div class=\"colab-df-container\">\n",
              "      <div>\n",
              "<style scoped>\n",
              "    .dataframe tbody tr th:only-of-type {\n",
              "        vertical-align: middle;\n",
              "    }\n",
              "\n",
              "    .dataframe tbody tr th {\n",
              "        vertical-align: top;\n",
              "    }\n",
              "\n",
              "    .dataframe thead th {\n",
              "        text-align: right;\n",
              "    }\n",
              "</style>\n",
              "<table border=\"1\" class=\"dataframe\">\n",
              "  <thead>\n",
              "    <tr style=\"text-align: right;\">\n",
              "      <th></th>\n",
              "      <th>name</th>\n",
              "      <th>realm</th>\n",
              "      <th>faction</th>\n",
              "      <th>rank</th>\n",
              "      <th>rating</th>\n",
              "      <th>played</th>\n",
              "      <th>won</th>\n",
              "      <th>lost</th>\n",
              "      <th>season_id</th>\n",
              "      <th>tier</th>\n",
              "      <th>win_rate</th>\n",
              "    </tr>\n",
              "  </thead>\n",
              "  <tbody>\n",
              "    <tr>\n",
              "      <th>0</th>\n",
              "      <td>sadhole</td>\n",
              "      <td>kazzak</td>\n",
              "      <td>horde</td>\n",
              "      <td>1</td>\n",
              "      <td>2606</td>\n",
              "      <td>173</td>\n",
              "      <td>124</td>\n",
              "      <td>49</td>\n",
              "      <td>32</td>\n",
              "      <td>Elite</td>\n",
              "      <td>71.7</td>\n",
              "    </tr>\n",
              "    <tr>\n",
              "      <th>1</th>\n",
              "      <td>whaazz</td>\n",
              "      <td>ravencrest</td>\n",
              "      <td>alliance</td>\n",
              "      <td>2</td>\n",
              "      <td>2605</td>\n",
              "      <td>84</td>\n",
              "      <td>78</td>\n",
              "      <td>6</td>\n",
              "      <td>32</td>\n",
              "      <td>Elite</td>\n",
              "      <td>92.9</td>\n",
              "    </tr>\n",
              "    <tr>\n",
              "      <th>2</th>\n",
              "      <td>iniquitatem</td>\n",
              "      <td>ravencrest</td>\n",
              "      <td>alliance</td>\n",
              "      <td>2</td>\n",
              "      <td>2605</td>\n",
              "      <td>84</td>\n",
              "      <td>78</td>\n",
              "      <td>6</td>\n",
              "      <td>32</td>\n",
              "      <td>Elite</td>\n",
              "      <td>92.9</td>\n",
              "    </tr>\n",
              "    <tr>\n",
              "      <th>3</th>\n",
              "      <td>raíku</td>\n",
              "      <td>ravencrest</td>\n",
              "      <td>alliance</td>\n",
              "      <td>2</td>\n",
              "      <td>2605</td>\n",
              "      <td>84</td>\n",
              "      <td>78</td>\n",
              "      <td>6</td>\n",
              "      <td>32</td>\n",
              "      <td>Elite</td>\n",
              "      <td>92.9</td>\n",
              "    </tr>\n",
              "    <tr>\n",
              "      <th>4</th>\n",
              "      <td>fnoberz</td>\n",
              "      <td>ravencrest</td>\n",
              "      <td>horde</td>\n",
              "      <td>5</td>\n",
              "      <td>2596</td>\n",
              "      <td>120</td>\n",
              "      <td>81</td>\n",
              "      <td>39</td>\n",
              "      <td>32</td>\n",
              "      <td>Elite</td>\n",
              "      <td>67.5</td>\n",
              "    </tr>\n",
              "    <tr>\n",
              "      <th>...</th>\n",
              "      <td>...</td>\n",
              "      <td>...</td>\n",
              "      <td>...</td>\n",
              "      <td>...</td>\n",
              "      <td>...</td>\n",
              "      <td>...</td>\n",
              "      <td>...</td>\n",
              "      <td>...</td>\n",
              "      <td>...</td>\n",
              "      <td>...</td>\n",
              "      <td>...</td>\n",
              "    </tr>\n",
              "    <tr>\n",
              "      <th>30079</th>\n",
              "      <td>ktdos</td>\n",
              "      <td>ravencrest</td>\n",
              "      <td>alliance</td>\n",
              "      <td>4995</td>\n",
              "      <td>2159</td>\n",
              "      <td>186</td>\n",
              "      <td>100</td>\n",
              "      <td>86</td>\n",
              "      <td>27</td>\n",
              "      <td>Duelist</td>\n",
              "      <td>53.8</td>\n",
              "    </tr>\n",
              "    <tr>\n",
              "      <th>30080</th>\n",
              "      <td>dotpixel</td>\n",
              "      <td>stormscale</td>\n",
              "      <td>horde</td>\n",
              "      <td>4995</td>\n",
              "      <td>2159</td>\n",
              "      <td>366</td>\n",
              "      <td>196</td>\n",
              "      <td>170</td>\n",
              "      <td>27</td>\n",
              "      <td>Duelist</td>\n",
              "      <td>53.6</td>\n",
              "    </tr>\n",
              "    <tr>\n",
              "      <th>30081</th>\n",
              "      <td>tokyø</td>\n",
              "      <td>outland</td>\n",
              "      <td>alliance</td>\n",
              "      <td>4995</td>\n",
              "      <td>2159</td>\n",
              "      <td>599</td>\n",
              "      <td>313</td>\n",
              "      <td>286</td>\n",
              "      <td>27</td>\n",
              "      <td>Duelist</td>\n",
              "      <td>52.3</td>\n",
              "    </tr>\n",
              "    <tr>\n",
              "      <th>30082</th>\n",
              "      <td>enô</td>\n",
              "      <td>blackrock</td>\n",
              "      <td>horde</td>\n",
              "      <td>4995</td>\n",
              "      <td>2159</td>\n",
              "      <td>393</td>\n",
              "      <td>201</td>\n",
              "      <td>192</td>\n",
              "      <td>27</td>\n",
              "      <td>Duelist</td>\n",
              "      <td>51.1</td>\n",
              "    </tr>\n",
              "    <tr>\n",
              "      <th>30083</th>\n",
              "      <td>páradox</td>\n",
              "      <td>stormscale</td>\n",
              "      <td>horde</td>\n",
              "      <td>4995</td>\n",
              "      <td>2159</td>\n",
              "      <td>808</td>\n",
              "      <td>399</td>\n",
              "      <td>409</td>\n",
              "      <td>27</td>\n",
              "      <td>Duelist</td>\n",
              "      <td>49.4</td>\n",
              "    </tr>\n",
              "  </tbody>\n",
              "</table>\n",
              "<p>30084 rows × 11 columns</p>\n",
              "</div>\n",
              "      <button class=\"colab-df-convert\" onclick=\"convertToInteractive('df-3e139242-aa2e-4a9d-963c-d1768bf6f32d')\"\n",
              "              title=\"Convert this dataframe to an interactive table.\"\n",
              "              style=\"display:none;\">\n",
              "        \n",
              "  <svg xmlns=\"http://www.w3.org/2000/svg\" height=\"24px\"viewBox=\"0 0 24 24\"\n",
              "       width=\"24px\">\n",
              "    <path d=\"M0 0h24v24H0V0z\" fill=\"none\"/>\n",
              "    <path d=\"M18.56 5.44l.94 2.06.94-2.06 2.06-.94-2.06-.94-.94-2.06-.94 2.06-2.06.94zm-11 1L8.5 8.5l.94-2.06 2.06-.94-2.06-.94L8.5 2.5l-.94 2.06-2.06.94zm10 10l.94 2.06.94-2.06 2.06-.94-2.06-.94-.94-2.06-.94 2.06-2.06.94z\"/><path d=\"M17.41 7.96l-1.37-1.37c-.4-.4-.92-.59-1.43-.59-.52 0-1.04.2-1.43.59L10.3 9.45l-7.72 7.72c-.78.78-.78 2.05 0 2.83L4 21.41c.39.39.9.59 1.41.59.51 0 1.02-.2 1.41-.59l7.78-7.78 2.81-2.81c.8-.78.8-2.07 0-2.86zM5.41 20L4 18.59l7.72-7.72 1.47 1.35L5.41 20z\"/>\n",
              "  </svg>\n",
              "      </button>\n",
              "      \n",
              "  <style>\n",
              "    .colab-df-container {\n",
              "      display:flex;\n",
              "      flex-wrap:wrap;\n",
              "      gap: 12px;\n",
              "    }\n",
              "\n",
              "    .colab-df-convert {\n",
              "      background-color: #E8F0FE;\n",
              "      border: none;\n",
              "      border-radius: 50%;\n",
              "      cursor: pointer;\n",
              "      display: none;\n",
              "      fill: #1967D2;\n",
              "      height: 32px;\n",
              "      padding: 0 0 0 0;\n",
              "      width: 32px;\n",
              "    }\n",
              "\n",
              "    .colab-df-convert:hover {\n",
              "      background-color: #E2EBFA;\n",
              "      box-shadow: 0px 1px 2px rgba(60, 64, 67, 0.3), 0px 1px 3px 1px rgba(60, 64, 67, 0.15);\n",
              "      fill: #174EA6;\n",
              "    }\n",
              "\n",
              "    [theme=dark] .colab-df-convert {\n",
              "      background-color: #3B4455;\n",
              "      fill: #D2E3FC;\n",
              "    }\n",
              "\n",
              "    [theme=dark] .colab-df-convert:hover {\n",
              "      background-color: #434B5C;\n",
              "      box-shadow: 0px 1px 3px 1px rgba(0, 0, 0, 0.15);\n",
              "      filter: drop-shadow(0px 1px 2px rgba(0, 0, 0, 0.3));\n",
              "      fill: #FFFFFF;\n",
              "    }\n",
              "  </style>\n",
              "\n",
              "      <script>\n",
              "        const buttonEl =\n",
              "          document.querySelector('#df-3e139242-aa2e-4a9d-963c-d1768bf6f32d button.colab-df-convert');\n",
              "        buttonEl.style.display =\n",
              "          google.colab.kernel.accessAllowed ? 'block' : 'none';\n",
              "\n",
              "        async function convertToInteractive(key) {\n",
              "          const element = document.querySelector('#df-3e139242-aa2e-4a9d-963c-d1768bf6f32d');\n",
              "          const dataTable =\n",
              "            await google.colab.kernel.invokeFunction('convertToInteractive',\n",
              "                                                     [key], {});\n",
              "          if (!dataTable) return;\n",
              "\n",
              "          const docLinkHtml = 'Like what you see? Visit the ' +\n",
              "            '<a target=\"_blank\" href=https://colab.research.google.com/notebooks/data_table.ipynb>data table notebook</a>'\n",
              "            + ' to learn more about interactive tables.';\n",
              "          element.innerHTML = '';\n",
              "          dataTable['output_type'] = 'display_data';\n",
              "          await google.colab.output.renderOutput(dataTable, element);\n",
              "          const docLink = document.createElement('div');\n",
              "          docLink.innerHTML = docLinkHtml;\n",
              "          element.appendChild(docLink);\n",
              "        }\n",
              "      </script>\n",
              "    </div>\n",
              "  </div>\n",
              "  "
            ]
          },
          "metadata": {},
          "execution_count": 15
        }
      ]
    },
    {
      "cell_type": "markdown",
      "source": [
        "### Which *seasons* are included in this dataset?"
      ],
      "metadata": {
        "id": "9_sSjoiDxYE1"
      }
    },
    {
      "cell_type": "code",
      "source": [
        "leaderboards['season_id'].unique()"
      ],
      "metadata": {
        "colab": {
          "base_uri": "https://localhost:8080/"
        },
        "id": "6CrWjNB-wkbo",
        "outputId": "dad8cb83-473c-4e86-977c-85cc86d40f1f"
      },
      "execution_count": 16,
      "outputs": [
        {
          "output_type": "execute_result",
          "data": {
            "text/plain": [
              "array([32, 31, 30, 29, 28, 27])"
            ]
          },
          "metadata": {},
          "execution_count": 16
        }
      ]
    },
    {
      "cell_type": "markdown",
      "source": [
        "### What's the current *season*?"
      ],
      "metadata": {
        "id": "9XTzh-4B_9gj"
      }
    },
    {
      "cell_type": "code",
      "source": [
        "leaderboards['season_id'].unique()[0]"
      ],
      "metadata": {
        "colab": {
          "base_uri": "https://localhost:8080/"
        },
        "id": "55vkgz7a__XJ",
        "outputId": "4860b4b9-4785-44b6-be10-c9e0c6d1af17"
      },
      "execution_count": 17,
      "outputs": [
        {
          "output_type": "execute_result",
          "data": {
            "text/plain": [
              "32"
            ]
          },
          "metadata": {},
          "execution_count": 17
        }
      ]
    },
    {
      "cell_type": "markdown",
      "source": [
        "### How many top rated players per *season* are provided within this dataset?"
      ],
      "metadata": {
        "id": "EmZ55WDSxdG4"
      }
    },
    {
      "cell_type": "code",
      "source": [
        "leaderboards['season_id'].value_counts().sort_index(ascending=False)"
      ],
      "metadata": {
        "colab": {
          "base_uri": "https://localhost:8080/"
        },
        "id": "Km1wS5Fswtvk",
        "outputId": "62eb34fa-36eb-4722-f188-d83842ad7897"
      },
      "execution_count": 18,
      "outputs": [
        {
          "output_type": "execute_result",
          "data": {
            "text/plain": [
              "32    5036\n",
              "31    5008\n",
              "30    5013\n",
              "29    5009\n",
              "28    5002\n",
              "27    5016\n",
              "Name: season_id, dtype: int64"
            ]
          },
          "metadata": {},
          "execution_count": 18
        }
      ]
    },
    {
      "cell_type": "markdown",
      "source": [
        "### *Who* holds the highest *rating*?"
      ],
      "metadata": {
        "id": "wsMDTkcrzKg3"
      }
    },
    {
      "cell_type": "code",
      "source": [
        "leaderboards.nlargest(1,'rating')"
      ],
      "metadata": {
        "colab": {
          "base_uri": "https://localhost:8080/",
          "height": 81
        },
        "id": "3lA7cgLBr5Jt",
        "outputId": "0054300b-3cca-4196-bd81-552d58cb1be4"
      },
      "execution_count": 19,
      "outputs": [
        {
          "output_type": "execute_result",
          "data": {
            "text/plain": [
              "     name   realm faction  rank  rating  played   won  lost  season_id   tier  \\\n",
              "5036  âzx  kazzak   horde     1    3815    4204  2478  1726         31  Elite   \n",
              "\n",
              "      win_rate  \n",
              "5036      58.9  "
            ],
            "text/html": [
              "\n",
              "  <div id=\"df-1fc40f8b-54a1-4ac5-a94d-697b749fb17d\">\n",
              "    <div class=\"colab-df-container\">\n",
              "      <div>\n",
              "<style scoped>\n",
              "    .dataframe tbody tr th:only-of-type {\n",
              "        vertical-align: middle;\n",
              "    }\n",
              "\n",
              "    .dataframe tbody tr th {\n",
              "        vertical-align: top;\n",
              "    }\n",
              "\n",
              "    .dataframe thead th {\n",
              "        text-align: right;\n",
              "    }\n",
              "</style>\n",
              "<table border=\"1\" class=\"dataframe\">\n",
              "  <thead>\n",
              "    <tr style=\"text-align: right;\">\n",
              "      <th></th>\n",
              "      <th>name</th>\n",
              "      <th>realm</th>\n",
              "      <th>faction</th>\n",
              "      <th>rank</th>\n",
              "      <th>rating</th>\n",
              "      <th>played</th>\n",
              "      <th>won</th>\n",
              "      <th>lost</th>\n",
              "      <th>season_id</th>\n",
              "      <th>tier</th>\n",
              "      <th>win_rate</th>\n",
              "    </tr>\n",
              "  </thead>\n",
              "  <tbody>\n",
              "    <tr>\n",
              "      <th>5036</th>\n",
              "      <td>âzx</td>\n",
              "      <td>kazzak</td>\n",
              "      <td>horde</td>\n",
              "      <td>1</td>\n",
              "      <td>3815</td>\n",
              "      <td>4204</td>\n",
              "      <td>2478</td>\n",
              "      <td>1726</td>\n",
              "      <td>31</td>\n",
              "      <td>Elite</td>\n",
              "      <td>58.9</td>\n",
              "    </tr>\n",
              "  </tbody>\n",
              "</table>\n",
              "</div>\n",
              "      <button class=\"colab-df-convert\" onclick=\"convertToInteractive('df-1fc40f8b-54a1-4ac5-a94d-697b749fb17d')\"\n",
              "              title=\"Convert this dataframe to an interactive table.\"\n",
              "              style=\"display:none;\">\n",
              "        \n",
              "  <svg xmlns=\"http://www.w3.org/2000/svg\" height=\"24px\"viewBox=\"0 0 24 24\"\n",
              "       width=\"24px\">\n",
              "    <path d=\"M0 0h24v24H0V0z\" fill=\"none\"/>\n",
              "    <path d=\"M18.56 5.44l.94 2.06.94-2.06 2.06-.94-2.06-.94-.94-2.06-.94 2.06-2.06.94zm-11 1L8.5 8.5l.94-2.06 2.06-.94-2.06-.94L8.5 2.5l-.94 2.06-2.06.94zm10 10l.94 2.06.94-2.06 2.06-.94-2.06-.94-.94-2.06-.94 2.06-2.06.94z\"/><path d=\"M17.41 7.96l-1.37-1.37c-.4-.4-.92-.59-1.43-.59-.52 0-1.04.2-1.43.59L10.3 9.45l-7.72 7.72c-.78.78-.78 2.05 0 2.83L4 21.41c.39.39.9.59 1.41.59.51 0 1.02-.2 1.41-.59l7.78-7.78 2.81-2.81c.8-.78.8-2.07 0-2.86zM5.41 20L4 18.59l7.72-7.72 1.47 1.35L5.41 20z\"/>\n",
              "  </svg>\n",
              "      </button>\n",
              "      \n",
              "  <style>\n",
              "    .colab-df-container {\n",
              "      display:flex;\n",
              "      flex-wrap:wrap;\n",
              "      gap: 12px;\n",
              "    }\n",
              "\n",
              "    .colab-df-convert {\n",
              "      background-color: #E8F0FE;\n",
              "      border: none;\n",
              "      border-radius: 50%;\n",
              "      cursor: pointer;\n",
              "      display: none;\n",
              "      fill: #1967D2;\n",
              "      height: 32px;\n",
              "      padding: 0 0 0 0;\n",
              "      width: 32px;\n",
              "    }\n",
              "\n",
              "    .colab-df-convert:hover {\n",
              "      background-color: #E2EBFA;\n",
              "      box-shadow: 0px 1px 2px rgba(60, 64, 67, 0.3), 0px 1px 3px 1px rgba(60, 64, 67, 0.15);\n",
              "      fill: #174EA6;\n",
              "    }\n",
              "\n",
              "    [theme=dark] .colab-df-convert {\n",
              "      background-color: #3B4455;\n",
              "      fill: #D2E3FC;\n",
              "    }\n",
              "\n",
              "    [theme=dark] .colab-df-convert:hover {\n",
              "      background-color: #434B5C;\n",
              "      box-shadow: 0px 1px 3px 1px rgba(0, 0, 0, 0.15);\n",
              "      filter: drop-shadow(0px 1px 2px rgba(0, 0, 0, 0.3));\n",
              "      fill: #FFFFFF;\n",
              "    }\n",
              "  </style>\n",
              "\n",
              "      <script>\n",
              "        const buttonEl =\n",
              "          document.querySelector('#df-1fc40f8b-54a1-4ac5-a94d-697b749fb17d button.colab-df-convert');\n",
              "        buttonEl.style.display =\n",
              "          google.colab.kernel.accessAllowed ? 'block' : 'none';\n",
              "\n",
              "        async function convertToInteractive(key) {\n",
              "          const element = document.querySelector('#df-1fc40f8b-54a1-4ac5-a94d-697b749fb17d');\n",
              "          const dataTable =\n",
              "            await google.colab.kernel.invokeFunction('convertToInteractive',\n",
              "                                                     [key], {});\n",
              "          if (!dataTable) return;\n",
              "\n",
              "          const docLinkHtml = 'Like what you see? Visit the ' +\n",
              "            '<a target=\"_blank\" href=https://colab.research.google.com/notebooks/data_table.ipynb>data table notebook</a>'\n",
              "            + ' to learn more about interactive tables.';\n",
              "          element.innerHTML = '';\n",
              "          dataTable['output_type'] = 'display_data';\n",
              "          await google.colab.output.renderOutput(dataTable, element);\n",
              "          const docLink = document.createElement('div');\n",
              "          docLink.innerHTML = docLinkHtml;\n",
              "          element.appendChild(docLink);\n",
              "        }\n",
              "      </script>\n",
              "    </div>\n",
              "  </div>\n",
              "  "
            ]
          },
          "metadata": {},
          "execution_count": 19
        }
      ]
    },
    {
      "cell_type": "markdown",
      "source": [
        "### *Who* holds the highest *win rate*?"
      ],
      "metadata": {
        "id": "r8c_XOwZ1ALz"
      }
    },
    {
      "cell_type": "code",
      "source": [
        "leaderboards.nlargest(1,'win_rate')"
      ],
      "metadata": {
        "colab": {
          "base_uri": "https://localhost:8080/",
          "height": 81
        },
        "id": "fCtUh8JF1C6e",
        "outputId": "a2ecf516-5fe3-4cec-898d-6d04f56bc509"
      },
      "execution_count": 20,
      "outputs": [
        {
          "output_type": "execute_result",
          "data": {
            "text/plain": [
              "             name       realm   faction  rank  rating  played  won  lost  \\\n",
              "16263  mitsutsuki  ravencrest  alliance  1207    2705      99   97     2   \n",
              "\n",
              "       season_id   tier  win_rate  \n",
              "16263         29  Elite      98.0  "
            ],
            "text/html": [
              "\n",
              "  <div id=\"df-e1707266-3f1c-4854-a901-734d400cfccc\">\n",
              "    <div class=\"colab-df-container\">\n",
              "      <div>\n",
              "<style scoped>\n",
              "    .dataframe tbody tr th:only-of-type {\n",
              "        vertical-align: middle;\n",
              "    }\n",
              "\n",
              "    .dataframe tbody tr th {\n",
              "        vertical-align: top;\n",
              "    }\n",
              "\n",
              "    .dataframe thead th {\n",
              "        text-align: right;\n",
              "    }\n",
              "</style>\n",
              "<table border=\"1\" class=\"dataframe\">\n",
              "  <thead>\n",
              "    <tr style=\"text-align: right;\">\n",
              "      <th></th>\n",
              "      <th>name</th>\n",
              "      <th>realm</th>\n",
              "      <th>faction</th>\n",
              "      <th>rank</th>\n",
              "      <th>rating</th>\n",
              "      <th>played</th>\n",
              "      <th>won</th>\n",
              "      <th>lost</th>\n",
              "      <th>season_id</th>\n",
              "      <th>tier</th>\n",
              "      <th>win_rate</th>\n",
              "    </tr>\n",
              "  </thead>\n",
              "  <tbody>\n",
              "    <tr>\n",
              "      <th>16263</th>\n",
              "      <td>mitsutsuki</td>\n",
              "      <td>ravencrest</td>\n",
              "      <td>alliance</td>\n",
              "      <td>1207</td>\n",
              "      <td>2705</td>\n",
              "      <td>99</td>\n",
              "      <td>97</td>\n",
              "      <td>2</td>\n",
              "      <td>29</td>\n",
              "      <td>Elite</td>\n",
              "      <td>98.0</td>\n",
              "    </tr>\n",
              "  </tbody>\n",
              "</table>\n",
              "</div>\n",
              "      <button class=\"colab-df-convert\" onclick=\"convertToInteractive('df-e1707266-3f1c-4854-a901-734d400cfccc')\"\n",
              "              title=\"Convert this dataframe to an interactive table.\"\n",
              "              style=\"display:none;\">\n",
              "        \n",
              "  <svg xmlns=\"http://www.w3.org/2000/svg\" height=\"24px\"viewBox=\"0 0 24 24\"\n",
              "       width=\"24px\">\n",
              "    <path d=\"M0 0h24v24H0V0z\" fill=\"none\"/>\n",
              "    <path d=\"M18.56 5.44l.94 2.06.94-2.06 2.06-.94-2.06-.94-.94-2.06-.94 2.06-2.06.94zm-11 1L8.5 8.5l.94-2.06 2.06-.94-2.06-.94L8.5 2.5l-.94 2.06-2.06.94zm10 10l.94 2.06.94-2.06 2.06-.94-2.06-.94-.94-2.06-.94 2.06-2.06.94z\"/><path d=\"M17.41 7.96l-1.37-1.37c-.4-.4-.92-.59-1.43-.59-.52 0-1.04.2-1.43.59L10.3 9.45l-7.72 7.72c-.78.78-.78 2.05 0 2.83L4 21.41c.39.39.9.59 1.41.59.51 0 1.02-.2 1.41-.59l7.78-7.78 2.81-2.81c.8-.78.8-2.07 0-2.86zM5.41 20L4 18.59l7.72-7.72 1.47 1.35L5.41 20z\"/>\n",
              "  </svg>\n",
              "      </button>\n",
              "      \n",
              "  <style>\n",
              "    .colab-df-container {\n",
              "      display:flex;\n",
              "      flex-wrap:wrap;\n",
              "      gap: 12px;\n",
              "    }\n",
              "\n",
              "    .colab-df-convert {\n",
              "      background-color: #E8F0FE;\n",
              "      border: none;\n",
              "      border-radius: 50%;\n",
              "      cursor: pointer;\n",
              "      display: none;\n",
              "      fill: #1967D2;\n",
              "      height: 32px;\n",
              "      padding: 0 0 0 0;\n",
              "      width: 32px;\n",
              "    }\n",
              "\n",
              "    .colab-df-convert:hover {\n",
              "      background-color: #E2EBFA;\n",
              "      box-shadow: 0px 1px 2px rgba(60, 64, 67, 0.3), 0px 1px 3px 1px rgba(60, 64, 67, 0.15);\n",
              "      fill: #174EA6;\n",
              "    }\n",
              "\n",
              "    [theme=dark] .colab-df-convert {\n",
              "      background-color: #3B4455;\n",
              "      fill: #D2E3FC;\n",
              "    }\n",
              "\n",
              "    [theme=dark] .colab-df-convert:hover {\n",
              "      background-color: #434B5C;\n",
              "      box-shadow: 0px 1px 3px 1px rgba(0, 0, 0, 0.15);\n",
              "      filter: drop-shadow(0px 1px 2px rgba(0, 0, 0, 0.3));\n",
              "      fill: #FFFFFF;\n",
              "    }\n",
              "  </style>\n",
              "\n",
              "      <script>\n",
              "        const buttonEl =\n",
              "          document.querySelector('#df-e1707266-3f1c-4854-a901-734d400cfccc button.colab-df-convert');\n",
              "        buttonEl.style.display =\n",
              "          google.colab.kernel.accessAllowed ? 'block' : 'none';\n",
              "\n",
              "        async function convertToInteractive(key) {\n",
              "          const element = document.querySelector('#df-e1707266-3f1c-4854-a901-734d400cfccc');\n",
              "          const dataTable =\n",
              "            await google.colab.kernel.invokeFunction('convertToInteractive',\n",
              "                                                     [key], {});\n",
              "          if (!dataTable) return;\n",
              "\n",
              "          const docLinkHtml = 'Like what you see? Visit the ' +\n",
              "            '<a target=\"_blank\" href=https://colab.research.google.com/notebooks/data_table.ipynb>data table notebook</a>'\n",
              "            + ' to learn more about interactive tables.';\n",
              "          element.innerHTML = '';\n",
              "          dataTable['output_type'] = 'display_data';\n",
              "          await google.colab.output.renderOutput(dataTable, element);\n",
              "          const docLink = document.createElement('div');\n",
              "          docLink.innerHTML = docLinkHtml;\n",
              "          element.appendChild(docLink);\n",
              "        }\n",
              "      </script>\n",
              "    </div>\n",
              "  </div>\n",
              "  "
            ]
          },
          "metadata": {},
          "execution_count": 20
        }
      ]
    },
    {
      "cell_type": "markdown",
      "source": [
        "### Is the matchmaking algorithm well developed?\n",
        "The correlation coefficient, *r*, for the relationship between matches *won* and \n",
        "<br>\n",
        "matches *lost* would be a very good error metric for the\n",
        "<br>\n",
        "matchmaking algorithm if all ranked 3v3 players were included in the dataset.\n",
        "<br><br>\n",
        "Doesn't really work here though, as only the top 5k players are included for each season,\n",
        "<br>\n",
        "thereby excluding the players that lose a lot."
      ],
      "metadata": {
        "id": "_m1Ri7Dp2BPL"
      }
    },
    {
      "cell_type": "code",
      "source": [
        "r = leaderboards['won'].corr(leaderboards['lost'])\n",
        "if r > 0.95:\n",
        "  print('yes:',r)\n",
        "else:\n",
        "  print('no:',r)"
      ],
      "metadata": {
        "colab": {
          "base_uri": "https://localhost:8080/"
        },
        "id": "WWm2V14z4dS1",
        "outputId": "1a57c8a2-f085-4ff9-d6db-353e50104c09"
      },
      "execution_count": 21,
      "outputs": [
        {
          "output_type": "stream",
          "name": "stdout",
          "text": [
            "yes: 0.9838364960889431\n"
          ]
        }
      ]
    },
    {
      "cell_type": "code",
      "source": [
        "plt.figure(figsize=(12,8))\n",
        "sns.scatterplot(data=leaderboards,x='lost',y='won',\n",
        "                hue='tier',linewidth=0,alpha=0.5);"
      ],
      "metadata": {
        "colab": {
          "base_uri": "https://localhost:8080/",
          "height": 497
        },
        "id": "imKk4YsO2E8q",
        "outputId": "3915b9f5-9097-4a4f-a2d8-79fb08b9a2da"
      },
      "execution_count": 22,
      "outputs": [
        {
          "output_type": "display_data",
          "data": {
            "text/plain": [
              "<Figure size 864x576 with 1 Axes>"
            ],
            "image/png": "[encoded data removed]"
          },
          "metadata": {
            "needs_background": "light"
          }
        }
      ]
    },
    {
      "cell_type": "markdown",
      "source": [
        "### *Who's* the outlier?"
      ],
      "metadata": {
        "id": "xYmKWFIQ2z1P"
      }
    },
    {
      "cell_type": "code",
      "source": [
        "leaderboards[leaderboards['lost'] > 8000]"
      ],
      "metadata": {
        "colab": {
          "base_uri": "https://localhost:8080/",
          "height": 81
        },
        "id": "Qa9ocZ5c2xs6",
        "outputId": "cea744f2-e120-4090-9b1a-7d307f79d18f"
      },
      "execution_count": 23,
      "outputs": [
        {
          "output_type": "execute_result",
          "data": {
            "text/plain": [
              "             name          realm faction  rank  rating  played    won  lost  \\\n",
              "5108  дракомелфой  howling-fjord   horde    71    3608   23456  14807  8649   \n",
              "\n",
              "      season_id   tier  win_rate  \n",
              "5108         31  Elite      63.1  "
            ],
            "text/html": [
              "\n",
              "  <div id=\"df-dbbc453b-210b-44af-ae76-08253142f232\">\n",
              "    <div class=\"colab-df-container\">\n",
              "      <div>\n",
              "<style scoped>\n",
              "    .dataframe tbody tr th:only-of-type {\n",
              "        vertical-align: middle;\n",
              "    }\n",
              "\n",
              "    .dataframe tbody tr th {\n",
              "        vertical-align: top;\n",
              "    }\n",
              "\n",
              "    .dataframe thead th {\n",
              "        text-align: right;\n",
              "    }\n",
              "</style>\n",
              "<table border=\"1\" class=\"dataframe\">\n",
              "  <thead>\n",
              "    <tr style=\"text-align: right;\">\n",
              "      <th></th>\n",
              "      <th>name</th>\n",
              "      <th>realm</th>\n",
              "      <th>faction</th>\n",
              "      <th>rank</th>\n",
              "      <th>rating</th>\n",
              "      <th>played</th>\n",
              "      <th>won</th>\n",
              "      <th>lost</th>\n",
              "      <th>season_id</th>\n",
              "      <th>tier</th>\n",
              "      <th>win_rate</th>\n",
              "    </tr>\n",
              "  </thead>\n",
              "  <tbody>\n",
              "    <tr>\n",
              "      <th>5108</th>\n",
              "      <td>дракомелфой</td>\n",
              "      <td>howling-fjord</td>\n",
              "      <td>horde</td>\n",
              "      <td>71</td>\n",
              "      <td>3608</td>\n",
              "      <td>23456</td>\n",
              "      <td>14807</td>\n",
              "      <td>8649</td>\n",
              "      <td>31</td>\n",
              "      <td>Elite</td>\n",
              "      <td>63.1</td>\n",
              "    </tr>\n",
              "  </tbody>\n",
              "</table>\n",
              "</div>\n",
              "      <button class=\"colab-df-convert\" onclick=\"convertToInteractive('df-dbbc453b-210b-44af-ae76-08253142f232')\"\n",
              "              title=\"Convert this dataframe to an interactive table.\"\n",
              "              style=\"display:none;\">\n",
              "        \n",
              "  <svg xmlns=\"http://www.w3.org/2000/svg\" height=\"24px\"viewBox=\"0 0 24 24\"\n",
              "       width=\"24px\">\n",
              "    <path d=\"M0 0h24v24H0V0z\" fill=\"none\"/>\n",
              "    <path d=\"M18.56 5.44l.94 2.06.94-2.06 2.06-.94-2.06-.94-.94-2.06-.94 2.06-2.06.94zm-11 1L8.5 8.5l.94-2.06 2.06-.94-2.06-.94L8.5 2.5l-.94 2.06-2.06.94zm10 10l.94 2.06.94-2.06 2.06-.94-2.06-.94-.94-2.06-.94 2.06-2.06.94z\"/><path d=\"M17.41 7.96l-1.37-1.37c-.4-.4-.92-.59-1.43-.59-.52 0-1.04.2-1.43.59L10.3 9.45l-7.72 7.72c-.78.78-.78 2.05 0 2.83L4 21.41c.39.39.9.59 1.41.59.51 0 1.02-.2 1.41-.59l7.78-7.78 2.81-2.81c.8-.78.8-2.07 0-2.86zM5.41 20L4 18.59l7.72-7.72 1.47 1.35L5.41 20z\"/>\n",
              "  </svg>\n",
              "      </button>\n",
              "      \n",
              "  <style>\n",
              "    .colab-df-container {\n",
              "      display:flex;\n",
              "      flex-wrap:wrap;\n",
              "      gap: 12px;\n",
              "    }\n",
              "\n",
              "    .colab-df-convert {\n",
              "      background-color: #E8F0FE;\n",
              "      border: none;\n",
              "      border-radius: 50%;\n",
              "      cursor: pointer;\n",
              "      display: none;\n",
              "      fill: #1967D2;\n",
              "      height: 32px;\n",
              "      padding: 0 0 0 0;\n",
              "      width: 32px;\n",
              "    }\n",
              "\n",
              "    .colab-df-convert:hover {\n",
              "      background-color: #E2EBFA;\n",
              "      box-shadow: 0px 1px 2px rgba(60, 64, 67, 0.3), 0px 1px 3px 1px rgba(60, 64, 67, 0.15);\n",
              "      fill: #174EA6;\n",
              "    }\n",
              "\n",
              "    [theme=dark] .colab-df-convert {\n",
              "      background-color: #3B4455;\n",
              "      fill: #D2E3FC;\n",
              "    }\n",
              "\n",
              "    [theme=dark] .colab-df-convert:hover {\n",
              "      background-color: #434B5C;\n",
              "      box-shadow: 0px 1px 3px 1px rgba(0, 0, 0, 0.15);\n",
              "      filter: drop-shadow(0px 1px 2px rgba(0, 0, 0, 0.3));\n",
              "      fill: #FFFFFF;\n",
              "    }\n",
              "  </style>\n",
              "\n",
              "      <script>\n",
              "        const buttonEl =\n",
              "          document.querySelector('#df-dbbc453b-210b-44af-ae76-08253142f232 button.colab-df-convert');\n",
              "        buttonEl.style.display =\n",
              "          google.colab.kernel.accessAllowed ? 'block' : 'none';\n",
              "\n",
              "        async function convertToInteractive(key) {\n",
              "          const element = document.querySelector('#df-dbbc453b-210b-44af-ae76-08253142f232');\n",
              "          const dataTable =\n",
              "            await google.colab.kernel.invokeFunction('convertToInteractive',\n",
              "                                                     [key], {});\n",
              "          if (!dataTable) return;\n",
              "\n",
              "          const docLinkHtml = 'Like what you see? Visit the ' +\n",
              "            '<a target=\"_blank\" href=https://colab.research.google.com/notebooks/data_table.ipynb>data table notebook</a>'\n",
              "            + ' to learn more about interactive tables.';\n",
              "          element.innerHTML = '';\n",
              "          dataTable['output_type'] = 'display_data';\n",
              "          await google.colab.output.renderOutput(dataTable, element);\n",
              "          const docLink = document.createElement('div');\n",
              "          docLink.innerHTML = docLinkHtml;\n",
              "          element.appendChild(docLink);\n",
              "        }\n",
              "      </script>\n",
              "    </div>\n",
              "  </div>\n",
              "  "
            ]
          },
          "metadata": {},
          "execution_count": 23
        }
      ]
    },
    {
      "cell_type": "markdown",
      "source": [
        "### How do the *win rates* compare with the *ratings*?\n",
        "This comparison plot tells us that you don't necessarily\n",
        "<br>\n",
        "need an amazing win rate in order to acquire a high rating, in fact,\n",
        "<br>\n",
        "most top players barely have a win rate above 50%."
      ],
      "metadata": {
        "id": "AoM5v2yOPPGi"
      }
    },
    {
      "cell_type": "code",
      "source": [
        "sns.jointplot(data=leaderboards,x='win_rate',y='rating',kind='hex');"
      ],
      "metadata": {
        "colab": {
          "base_uri": "https://localhost:8080/",
          "height": 441
        },
        "id": "8JormwESOPks",
        "outputId": "5a9a7fa1-ee7e-42f5-8f3b-3bf8563e6bcc"
      },
      "execution_count": 24,
      "outputs": [
        {
          "output_type": "display_data",
          "data": {
            "text/plain": [
              "<Figure size 432x432 with 3 Axes>"
            ],
            "image/png": "[encoded data removed]"
          },
          "metadata": {
            "needs_background": "light"
          }
        }
      ]
    },
    {
      "cell_type": "markdown",
      "source": [
        "### What does the relationship between *rating* and matches *played* look like?\n",
        "The following scatterplot portrays:\n",
        "* matches *played* on the x-axis\n",
        "* the *rating* on the y-axis\n",
        "* the *tiers* on the \"z-axis\"\n",
        "* how the *ratings* are distributed amongst the *tiers* on the yz-plane"
      ],
      "metadata": {
        "id": "da34R7AN_Ngw"
      }
    },
    {
      "cell_type": "code",
      "source": [
        "plt.figure(figsize=(12,8))\n",
        "sns.scatterplot(data=leaderboards,x='played',y='rating',\n",
        "                hue='tier',linewidth=0,alpha=0.5);"
      ],
      "metadata": {
        "colab": {
          "base_uri": "https://localhost:8080/",
          "height": 497
        },
        "id": "LkA428C5-oNC",
        "outputId": "112edb1a-3347-476a-c8ad-92d641df9ba8"
      },
      "execution_count": 25,
      "outputs": [
        {
          "output_type": "display_data",
          "data": {
            "text/plain": [
              "<Figure size 864x576 with 1 Axes>"
            ],
            "image/png": "[encoded data removed]"
          },
          "metadata": {
            "needs_background": "light"
          }
        }
      ]
    },
    {
      "cell_type": "markdown",
      "source": [
        "### How many matches have the different *tiers* *played* on average?"
      ],
      "metadata": {
        "id": "eIm9gG2fcprA"
      }
    },
    {
      "cell_type": "code",
      "source": [
        "leaderboards.groupby('tier')['played'].mean().sort_values(ascending=False)"
      ],
      "metadata": {
        "colab": {
          "base_uri": "https://localhost:8080/"
        },
        "id": "L7bM4eWUc0Dm",
        "outputId": "9cc8cdfe-823d-41aa-ca0b-12ca29613ed4"
      },
      "execution_count": 26,
      "outputs": [
        {
          "output_type": "execute_result",
          "data": {
            "text/plain": [
              "tier\n",
              "Elite       854.877246\n",
              "Duelist     437.039317\n",
              "Rival II    180.194825\n",
              "Rival I     147.096215\n",
              "Name: played, dtype: float64"
            ]
          },
          "metadata": {},
          "execution_count": 26
        }
      ]
    },
    {
      "cell_type": "markdown",
      "source": [
        "### Which *faction* has the highest mean *rating*?"
      ],
      "metadata": {
        "id": "FcWBflqOGhoh"
      }
    },
    {
      "cell_type": "code",
      "source": [
        "leaderboards.groupby('faction')['rating'].mean().nlargest(1)"
      ],
      "metadata": {
        "colab": {
          "base_uri": "https://localhost:8080/"
        },
        "id": "bdu8qKgQGmyZ",
        "outputId": "1cf83113-5c98-4e00-8ef7-1e167de7067b"
      },
      "execution_count": 27,
      "outputs": [
        {
          "output_type": "execute_result",
          "data": {
            "text/plain": [
              "faction\n",
              "alliance    2468.209326\n",
              "Name: rating, dtype: float64"
            ]
          },
          "metadata": {},
          "execution_count": 27
        }
      ]
    },
    {
      "cell_type": "markdown",
      "source": [
        "### Which *realm* has the highest *rating* on average?"
      ],
      "metadata": {
        "id": "ZaBexhj8Ih9T"
      }
    },
    {
      "cell_type": "code",
      "source": [
        "top_realm = leaderboards.groupby('realm')['rating'].mean().nlargest(1)\n",
        "top_realm"
      ],
      "metadata": {
        "colab": {
          "base_uri": "https://localhost:8080/"
        },
        "id": "mG-TXxKWIk4d",
        "outputId": "d1b1929b-9f0a-4f7d-92d7-12acabc6af0e"
      },
      "execution_count": 28,
      "outputs": [
        {
          "output_type": "execute_result",
          "data": {
            "text/plain": [
              "realm\n",
              "suramar    2742.552632\n",
              "Name: rating, dtype: float64"
            ]
          },
          "metadata": {},
          "execution_count": 28
        }
      ]
    },
    {
      "cell_type": "markdown",
      "source": [
        "### Which *faction* dominates this *realm*?"
      ],
      "metadata": {
        "id": "FMxztf2KKHfE"
      }
    },
    {
      "cell_type": "code",
      "source": [
        "leaderboards[leaderboards['realm'] == top_realm.index[0]]['faction'].value_counts(normalize=True).nlargest(1)"
      ],
      "metadata": {
        "colab": {
          "base_uri": "https://localhost:8080/"
        },
        "id": "vas0AeJ-KPrR",
        "outputId": "3b066e50-95a6-4304-8f9c-3cc8bb4610d3"
      },
      "execution_count": 29,
      "outputs": [
        {
          "output_type": "execute_result",
          "data": {
            "text/plain": [
              "alliance    0.710526\n",
              "Name: faction, dtype: float64"
            ]
          },
          "metadata": {},
          "execution_count": 29
        }
      ]
    }
  ]
}