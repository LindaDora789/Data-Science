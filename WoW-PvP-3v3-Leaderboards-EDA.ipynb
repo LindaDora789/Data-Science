{
  "nbformat": 4,
  "nbformat_minor": 0,
  "metadata": {
    "colab": {
      "name": "WoW-PvP-3v3-Leaderboards-EDA.ipynb",
      "provenance": [],
      "collapsed_sections": [
        "Z8Js734ab_d9",
        "LDFjyvdSpuKA",
        "jcErIjcxqRu-"
      ],
      "authorship_tag": "ABX9TyO159XMvNW/QhflktjVrFJA",
      "include_colab_link": true
    },
    "kernelspec": {
      "name": "python3",
      "display_name": "Python 3"
    },
    "language_info": {
      "name": "python"
    }
  },
  "cells": [
    {
      "cell_type": "markdown",
      "metadata": {
        "id": "view-in-github",
        "colab_type": "text"
      },
      "source": [
        "<a href=\"https://colab.research.google.com/github/Deauth-Eater/Divination/blob/main/WoW-PvP-3v3-Leaderboards-EDA.ipynb\" target=\"_parent\"><img src=\"https://colab.research.google.com/assets/colab-badge.svg\" alt=\"Open In Colab\"/></a>"
      ]
    },
    {
      "cell_type": "code",
      "execution_count": 1,
      "metadata": {
        "id": "ltUfncYMY9ba"
      },
      "outputs": [],
      "source": [
        "import numpy as np\n",
        "import pandas as pd\n",
        "import seaborn as sns\n",
        "from matplotlib import pyplot as plt"
      ]
    },
    {
      "cell_type": "code",
      "source": [
        "CLIENT_ID = \"\"\n",
        "CLIENT_SECRET = \"\"\n",
        "REGION = \"eu\" #\"us\"\n",
        "LOCALE = \"en_GB\" #\"en_US\""
      ],
      "metadata": {
        "id": "k6Eb8yQCcQUm"
      },
      "execution_count": 29,
      "outputs": []
    },
    {
      "cell_type": "code",
      "source": [
        "#!pip install python-blizzardapi"
      ],
      "metadata": {
        "id": "6Yz0yXB1GpLf"
      },
      "execution_count": 3,
      "outputs": []
    },
    {
      "cell_type": "code",
      "source": [
        "from blizzardapi import BlizzardApi\n",
        "api_client = BlizzardApi(CLIENT_ID, CLIENT_SECRET)"
      ],
      "metadata": {
        "id": "rayWuSeRb1FE"
      },
      "execution_count": 4,
      "outputs": []
    },
    {
      "cell_type": "markdown",
      "source": [
        "## Part 1: Gather & Store Data"
      ],
      "metadata": {
        "id": "Z8Js734ab_d9"
      }
    },
    {
      "cell_type": "code",
      "source": [
        "def get_season_ids():\n",
        "  season_ids=[]\n",
        "  \n",
        "  response = api_client.wow.game_data.get_pvp_seasons_index(region=REGION,\n",
        "                                                            locale=LOCALE)\n",
        "  for season in response['seasons']:\n",
        "    season_ids.append(season['id'])\n",
        "\n",
        "  return season_ids\n",
        "\n",
        "season_ids = get_season_ids()"
      ],
      "metadata": {
        "id": "iLLudU4Yenqv"
      },
      "execution_count": 5,
      "outputs": []
    },
    {
      "cell_type": "code",
      "source": [
        "def get_leaderboard(season_id,bracket):\n",
        "  name,realm,faction,rank,rating,played,won,lost,tier_id = ([] for i in range(9))\n",
        "\n",
        "  response = api_client.wow.game_data.get_pvp_leaderboard(region=REGION,\n",
        "                                                          locale=LOCALE,\n",
        "                                                          pvp_season_id=season_id,\n",
        "                                                          pvp_bracket=bracket)\n",
        "  try:\n",
        "    for entry in response['entries']:\n",
        "      name.append(entry['character']['name'].lower())\n",
        "      realm.append(entry['character']['realm']['slug'])\n",
        "      faction.append(entry['faction']['type'].lower())\n",
        "      rank.append(entry['rank'])\n",
        "      rating.append(entry['rating'])\n",
        "      played.append(entry['season_match_statistics']['played'])\n",
        "      won.append(entry['season_match_statistics']['won'])\n",
        "      lost.append(entry['season_match_statistics']['lost'])\n",
        "      tier_id.append(entry['tier']['id'])\n",
        "  except KeyError:\n",
        "    pass\n",
        "      \n",
        "  leaderboard = pd.DataFrame(list(zip(name,realm,faction,rank,rating,\n",
        "                                      played,won,lost,tier_id)),\n",
        "                            columns=['name','realm','faction','rank','rating',\n",
        "                                     'played','won','lost','tier_id'])\n",
        "  \n",
        "  leaderboard['season_id'] = season_id\n",
        "  \n",
        "  return leaderboard"
      ],
      "metadata": {
        "id": "09wDRdZ7dIWa"
      },
      "execution_count": 6,
      "outputs": []
    },
    {
      "cell_type": "code",
      "source": [
        "leaderboards = pd.DataFrame(columns=['name','realm','faction','rank','rating',\n",
        "                                     'played','won','lost','tier_id','season_id'])"
      ],
      "metadata": {
        "id": "nq0b3eeCegn0"
      },
      "execution_count": 7,
      "outputs": []
    },
    {
      "cell_type": "code",
      "source": [
        "for season_id in season_ids:\n",
        "  leaderboards = pd.concat([get_leaderboard(season_id,\"3v3\"),\n",
        "                            leaderboards], axis=0)"
      ],
      "metadata": {
        "id": "2R7apX5akSFd"
      },
      "execution_count": 8,
      "outputs": []
    },
    {
      "cell_type": "code",
      "source": [
        "tiers_index = api_client.wow.game_data.get_pvp_tiers_index(region=REGION,\n",
        "                                                           locale=LOCALE)['tiers']\n",
        "def get_tier(tier_id):\n",
        "  for tier in tiers_index:\n",
        "    if tier['id'] == tier_id:\n",
        "      return tier['name']\n",
        "\n",
        "leaderboards['tier'] = np.vectorize(get_tier)(leaderboards['tier_id'])"
      ],
      "metadata": {
        "id": "vSYl8Lvc3uUx"
      },
      "execution_count": 9,
      "outputs": []
    },
    {
      "cell_type": "code",
      "source": [
        "def get_class(realm,name):\n",
        "  response = api_client.wow.profile.get_character_profile_summary(region=REGION,\n",
        "                                                                  locale=LOCALE,\n",
        "                                                                  realm_slug=realm,\n",
        "                                                                  character_name=name)\n",
        "  try:\n",
        "    return response['character_class']['name'].lower()\n",
        "  except KeyError:\n",
        "    return pd.NA\n",
        "\n",
        "#leaderboards['class'] = np.vectorize(get_class)(leaderboards['realm'],leaderboards['name'])"
      ],
      "metadata": {
        "id": "m07TFVBYubE_"
      },
      "execution_count": 10,
      "outputs": []
    },
    {
      "cell_type": "code",
      "source": [
        "leaderboards.to_csv('leaderboards.csv',index=False)"
      ],
      "metadata": {
        "id": "HHrDfDtcEYj9"
      },
      "execution_count": 11,
      "outputs": []
    },
    {
      "cell_type": "markdown",
      "source": [
        "## Part 2: Clean & Organize Data"
      ],
      "metadata": {
        "id": "LDFjyvdSpuKA"
      }
    },
    {
      "cell_type": "code",
      "source": [
        "leaderboards = pd.read_csv('leaderboards.csv')"
      ],
      "metadata": {
        "id": "b8Pxvzd1EgSS"
      },
      "execution_count": 12,
      "outputs": []
    },
    {
      "cell_type": "code",
      "source": [
        "leaderboards = leaderboards.drop('tier_id',axis=1)"
      ],
      "metadata": {
        "id": "-xUFdZTp6bVe"
      },
      "execution_count": 13,
      "outputs": []
    },
    {
      "cell_type": "code",
      "source": [
        "leaderboards['win_rate'] = round(leaderboards['won']/leaderboards['played']*100,1)"
      ],
      "metadata": {
        "id": "ipCFOWmK0lc-"
      },
      "execution_count": 14,
      "outputs": []
    },
    {
      "cell_type": "markdown",
      "source": [
        "## Part 3: EDA"
      ],
      "metadata": {
        "id": "jcErIjcxqRu-"
      }
    },
    {
      "cell_type": "markdown",
      "source": [
        "### What does the dataset look like?"
      ],
      "metadata": {
        "id": "nhxRucK4xwyQ"
      }
    },
    {
      "cell_type": "code",
      "source": [
        "leaderboards"
      ],
      "metadata": {
        "id": "UNC1XhtgNEHJ",
        "colab": {
          "base_uri": "https://localhost:8080/",
          "height": 424
        },
        "outputId": "93da9e1a-e213-40ce-e78e-c29e69a5296c"
      },
      "execution_count": 15,
      "outputs": [
        {
          "output_type": "execute_result",
          "data": {
            "text/plain": [
              "              name       realm   faction  rank  rating  played  won  lost  \\\n",
              "0          sadhole      kazzak     horde     1    2606     173  124    49   \n",
              "1           whaazz  ravencrest  alliance     2    2605      84   78     6   \n",
              "2      iniquitatem  ravencrest  alliance     2    2605      84   78     6   \n",
              "3            raíku  ravencrest  alliance     2    2605      84   78     6   \n",
              "4          fnoberz  ravencrest     horde     5    2596     120   81    39   \n",
              "...            ...         ...       ...   ...     ...     ...  ...   ...   \n",
              "30045        ktdos  ravencrest  alliance  4995    2159     186  100    86   \n",
              "30046     dotpixel  stormscale     horde  4995    2159     366  196   170   \n",
              "30047        tokyø     outland  alliance  4995    2159     599  313   286   \n",
              "30048          enô   blackrock     horde  4995    2159     393  201   192   \n",
              "30049      páradox  stormscale     horde  4995    2159     808  399   409   \n",
              "\n",
              "       season_id     tier  win_rate  \n",
              "0             32    Elite      71.7  \n",
              "1             32    Elite      92.9  \n",
              "2             32    Elite      92.9  \n",
              "3             32    Elite      92.9  \n",
              "4             32    Elite      67.5  \n",
              "...          ...      ...       ...  \n",
              "30045         27  Duelist      53.8  \n",
              "30046         27  Duelist      53.6  \n",
              "30047         27  Duelist      52.3  \n",
              "30048         27  Duelist      51.1  \n",
              "30049         27  Duelist      49.4  \n",
              "\n",
              "[30050 rows x 11 columns]"
            ],
            "text/html": [
              "\n",
              "  <div id=\"df-be1f801b-ff63-4745-8692-9a4dc5de8d17\">\n",
              "    <div class=\"colab-df-container\">\n",
              "      <div>\n",
              "<style scoped>\n",
              "    .dataframe tbody tr th:only-of-type {\n",
              "        vertical-align: middle;\n",
              "    }\n",
              "\n",
              "    .dataframe tbody tr th {\n",
              "        vertical-align: top;\n",
              "    }\n",
              "\n",
              "    .dataframe thead th {\n",
              "        text-align: right;\n",
              "    }\n",
              "</style>\n",
              "<table border=\"1\" class=\"dataframe\">\n",
              "  <thead>\n",
              "    <tr style=\"text-align: right;\">\n",
              "      <th></th>\n",
              "      <th>name</th>\n",
              "      <th>realm</th>\n",
              "      <th>faction</th>\n",
              "      <th>rank</th>\n",
              "      <th>rating</th>\n",
              "      <th>played</th>\n",
              "      <th>won</th>\n",
              "      <th>lost</th>\n",
              "      <th>season_id</th>\n",
              "      <th>tier</th>\n",
              "      <th>win_rate</th>\n",
              "    </tr>\n",
              "  </thead>\n",
              "  <tbody>\n",
              "    <tr>\n",
              "      <th>0</th>\n",
              "      <td>sadhole</td>\n",
              "      <td>kazzak</td>\n",
              "      <td>horde</td>\n",
              "      <td>1</td>\n",
              "      <td>2606</td>\n",
              "      <td>173</td>\n",
              "      <td>124</td>\n",
              "      <td>49</td>\n",
              "      <td>32</td>\n",
              "      <td>Elite</td>\n",
              "      <td>71.7</td>\n",
              "    </tr>\n",
              "    <tr>\n",
              "      <th>1</th>\n",
              "      <td>whaazz</td>\n",
              "      <td>ravencrest</td>\n",
              "      <td>alliance</td>\n",
              "      <td>2</td>\n",
              "      <td>2605</td>\n",
              "      <td>84</td>\n",
              "      <td>78</td>\n",
              "      <td>6</td>\n",
              "      <td>32</td>\n",
              "      <td>Elite</td>\n",
              "      <td>92.9</td>\n",
              "    </tr>\n",
              "    <tr>\n",
              "      <th>2</th>\n",
              "      <td>iniquitatem</td>\n",
              "      <td>ravencrest</td>\n",
              "      <td>alliance</td>\n",
              "      <td>2</td>\n",
              "      <td>2605</td>\n",
              "      <td>84</td>\n",
              "      <td>78</td>\n",
              "      <td>6</td>\n",
              "      <td>32</td>\n",
              "      <td>Elite</td>\n",
              "      <td>92.9</td>\n",
              "    </tr>\n",
              "    <tr>\n",
              "      <th>3</th>\n",
              "      <td>raíku</td>\n",
              "      <td>ravencrest</td>\n",
              "      <td>alliance</td>\n",
              "      <td>2</td>\n",
              "      <td>2605</td>\n",
              "      <td>84</td>\n",
              "      <td>78</td>\n",
              "      <td>6</td>\n",
              "      <td>32</td>\n",
              "      <td>Elite</td>\n",
              "      <td>92.9</td>\n",
              "    </tr>\n",
              "    <tr>\n",
              "      <th>4</th>\n",
              "      <td>fnoberz</td>\n",
              "      <td>ravencrest</td>\n",
              "      <td>horde</td>\n",
              "      <td>5</td>\n",
              "      <td>2596</td>\n",
              "      <td>120</td>\n",
              "      <td>81</td>\n",
              "      <td>39</td>\n",
              "      <td>32</td>\n",
              "      <td>Elite</td>\n",
              "      <td>67.5</td>\n",
              "    </tr>\n",
              "    <tr>\n",
              "      <th>...</th>\n",
              "      <td>...</td>\n",
              "      <td>...</td>\n",
              "      <td>...</td>\n",
              "      <td>...</td>\n",
              "      <td>...</td>\n",
              "      <td>...</td>\n",
              "      <td>...</td>\n",
              "      <td>...</td>\n",
              "      <td>...</td>\n",
              "      <td>...</td>\n",
              "      <td>...</td>\n",
              "    </tr>\n",
              "    <tr>\n",
              "      <th>30045</th>\n",
              "      <td>ktdos</td>\n",
              "      <td>ravencrest</td>\n",
              "      <td>alliance</td>\n",
              "      <td>4995</td>\n",
              "      <td>2159</td>\n",
              "      <td>186</td>\n",
              "      <td>100</td>\n",
              "      <td>86</td>\n",
              "      <td>27</td>\n",
              "      <td>Duelist</td>\n",
              "      <td>53.8</td>\n",
              "    </tr>\n",
              "    <tr>\n",
              "      <th>30046</th>\n",
              "      <td>dotpixel</td>\n",
              "      <td>stormscale</td>\n",
              "      <td>horde</td>\n",
              "      <td>4995</td>\n",
              "      <td>2159</td>\n",
              "      <td>366</td>\n",
              "      <td>196</td>\n",
              "      <td>170</td>\n",
              "      <td>27</td>\n",
              "      <td>Duelist</td>\n",
              "      <td>53.6</td>\n",
              "    </tr>\n",
              "    <tr>\n",
              "      <th>30047</th>\n",
              "      <td>tokyø</td>\n",
              "      <td>outland</td>\n",
              "      <td>alliance</td>\n",
              "      <td>4995</td>\n",
              "      <td>2159</td>\n",
              "      <td>599</td>\n",
              "      <td>313</td>\n",
              "      <td>286</td>\n",
              "      <td>27</td>\n",
              "      <td>Duelist</td>\n",
              "      <td>52.3</td>\n",
              "    </tr>\n",
              "    <tr>\n",
              "      <th>30048</th>\n",
              "      <td>enô</td>\n",
              "      <td>blackrock</td>\n",
              "      <td>horde</td>\n",
              "      <td>4995</td>\n",
              "      <td>2159</td>\n",
              "      <td>393</td>\n",
              "      <td>201</td>\n",
              "      <td>192</td>\n",
              "      <td>27</td>\n",
              "      <td>Duelist</td>\n",
              "      <td>51.1</td>\n",
              "    </tr>\n",
              "    <tr>\n",
              "      <th>30049</th>\n",
              "      <td>páradox</td>\n",
              "      <td>stormscale</td>\n",
              "      <td>horde</td>\n",
              "      <td>4995</td>\n",
              "      <td>2159</td>\n",
              "      <td>808</td>\n",
              "      <td>399</td>\n",
              "      <td>409</td>\n",
              "      <td>27</td>\n",
              "      <td>Duelist</td>\n",
              "      <td>49.4</td>\n",
              "    </tr>\n",
              "  </tbody>\n",
              "</table>\n",
              "<p>30050 rows × 11 columns</p>\n",
              "</div>\n",
              "      <button class=\"colab-df-convert\" onclick=\"convertToInteractive('df-be1f801b-ff63-4745-8692-9a4dc5de8d17')\"\n",
              "              title=\"Convert this dataframe to an interactive table.\"\n",
              "              style=\"display:none;\">\n",
              "        \n",
              "  <svg xmlns=\"http://www.w3.org/2000/svg\" height=\"24px\"viewBox=\"0 0 24 24\"\n",
              "       width=\"24px\">\n",
              "    <path d=\"M0 0h24v24H0V0z\" fill=\"none\"/>\n",
              "    <path d=\"M18.56 5.44l.94 2.06.94-2.06 2.06-.94-2.06-.94-.94-2.06-.94 2.06-2.06.94zm-11 1L8.5 8.5l.94-2.06 2.06-.94-2.06-.94L8.5 2.5l-.94 2.06-2.06.94zm10 10l.94 2.06.94-2.06 2.06-.94-2.06-.94-.94-2.06-.94 2.06-2.06.94z\"/><path d=\"M17.41 7.96l-1.37-1.37c-.4-.4-.92-.59-1.43-.59-.52 0-1.04.2-1.43.59L10.3 9.45l-7.72 7.72c-.78.78-.78 2.05 0 2.83L4 21.41c.39.39.9.59 1.41.59.51 0 1.02-.2 1.41-.59l7.78-7.78 2.81-2.81c.8-.78.8-2.07 0-2.86zM5.41 20L4 18.59l7.72-7.72 1.47 1.35L5.41 20z\"/>\n",
              "  </svg>\n",
              "      </button>\n",
              "      \n",
              "  <style>\n",
              "    .colab-df-container {\n",
              "      display:flex;\n",
              "      flex-wrap:wrap;\n",
              "      gap: 12px;\n",
              "    }\n",
              "\n",
              "    .colab-df-convert {\n",
              "      background-color: #E8F0FE;\n",
              "      border: none;\n",
              "      border-radius: 50%;\n",
              "      cursor: pointer;\n",
              "      display: none;\n",
              "      fill: #1967D2;\n",
              "      height: 32px;\n",
              "      padding: 0 0 0 0;\n",
              "      width: 32px;\n",
              "    }\n",
              "\n",
              "    .colab-df-convert:hover {\n",
              "      background-color: #E2EBFA;\n",
              "      box-shadow: 0px 1px 2px rgba(60, 64, 67, 0.3), 0px 1px 3px 1px rgba(60, 64, 67, 0.15);\n",
              "      fill: #174EA6;\n",
              "    }\n",
              "\n",
              "    [theme=dark] .colab-df-convert {\n",
              "      background-color: #3B4455;\n",
              "      fill: #D2E3FC;\n",
              "    }\n",
              "\n",
              "    [theme=dark] .colab-df-convert:hover {\n",
              "      background-color: #434B5C;\n",
              "      box-shadow: 0px 1px 3px 1px rgba(0, 0, 0, 0.15);\n",
              "      filter: drop-shadow(0px 1px 2px rgba(0, 0, 0, 0.3));\n",
              "      fill: #FFFFFF;\n",
              "    }\n",
              "  </style>\n",
              "\n",
              "      <script>\n",
              "        const buttonEl =\n",
              "          document.querySelector('#df-be1f801b-ff63-4745-8692-9a4dc5de8d17 button.colab-df-convert');\n",
              "        buttonEl.style.display =\n",
              "          google.colab.kernel.accessAllowed ? 'block' : 'none';\n",
              "\n",
              "        async function convertToInteractive(key) {\n",
              "          const element = document.querySelector('#df-be1f801b-ff63-4745-8692-9a4dc5de8d17');\n",
              "          const dataTable =\n",
              "            await google.colab.kernel.invokeFunction('convertToInteractive',\n",
              "                                                     [key], {});\n",
              "          if (!dataTable) return;\n",
              "\n",
              "          const docLinkHtml = 'Like what you see? Visit the ' +\n",
              "            '<a target=\"_blank\" href=https://colab.research.google.com/notebooks/data_table.ipynb>data table notebook</a>'\n",
              "            + ' to learn more about interactive tables.';\n",
              "          element.innerHTML = '';\n",
              "          dataTable['output_type'] = 'display_data';\n",
              "          await google.colab.output.renderOutput(dataTable, element);\n",
              "          const docLink = document.createElement('div');\n",
              "          docLink.innerHTML = docLinkHtml;\n",
              "          element.appendChild(docLink);\n",
              "        }\n",
              "      </script>\n",
              "    </div>\n",
              "  </div>\n",
              "  "
            ]
          },
          "metadata": {},
          "execution_count": 15
        }
      ]
    },
    {
      "cell_type": "markdown",
      "source": [
        "### Which *seasons* are included in this dataset?"
      ],
      "metadata": {
        "id": "9_sSjoiDxYE1"
      }
    },
    {
      "cell_type": "code",
      "source": [
        "leaderboards['season_id'].unique()"
      ],
      "metadata": {
        "colab": {
          "base_uri": "https://localhost:8080/"
        },
        "id": "6CrWjNB-wkbo",
        "outputId": "5839ba34-2d46-4e8f-c18a-786fd91fcd52"
      },
      "execution_count": 16,
      "outputs": [
        {
          "output_type": "execute_result",
          "data": {
            "text/plain": [
              "array([32, 31, 30, 29, 28, 27])"
            ]
          },
          "metadata": {},
          "execution_count": 16
        }
      ]
    },
    {
      "cell_type": "markdown",
      "source": [
        "### What's the current *season*?"
      ],
      "metadata": {
        "id": "9XTzh-4B_9gj"
      }
    },
    {
      "cell_type": "code",
      "source": [
        "leaderboards['season_id'].unique()[0]"
      ],
      "metadata": {
        "colab": {
          "base_uri": "https://localhost:8080/"
        },
        "id": "55vkgz7a__XJ",
        "outputId": "1c698f8b-d630-4aa4-bade-adc8d3c4c346"
      },
      "execution_count": 17,
      "outputs": [
        {
          "output_type": "execute_result",
          "data": {
            "text/plain": [
              "32"
            ]
          },
          "metadata": {},
          "execution_count": 17
        }
      ]
    },
    {
      "cell_type": "markdown",
      "source": [
        "### How many top rated players per *season* are provided within this dataset?"
      ],
      "metadata": {
        "id": "EmZ55WDSxdG4"
      }
    },
    {
      "cell_type": "code",
      "source": [
        "leaderboards['season_id'].value_counts().sort_index(ascending=False)"
      ],
      "metadata": {
        "colab": {
          "base_uri": "https://localhost:8080/"
        },
        "id": "Km1wS5Fswtvk",
        "outputId": "b4abc6f7-e202-454c-97d6-dab88886d21f"
      },
      "execution_count": 18,
      "outputs": [
        {
          "output_type": "execute_result",
          "data": {
            "text/plain": [
              "32    5002\n",
              "31    5008\n",
              "30    5013\n",
              "29    5009\n",
              "28    5002\n",
              "27    5016\n",
              "Name: season_id, dtype: int64"
            ]
          },
          "metadata": {},
          "execution_count": 18
        }
      ]
    },
    {
      "cell_type": "markdown",
      "source": [
        "### *Who* holds the highest *rating*?"
      ],
      "metadata": {
        "id": "wsMDTkcrzKg3"
      }
    },
    {
      "cell_type": "code",
      "source": [
        "leaderboards.nlargest(1,'rating')"
      ],
      "metadata": {
        "colab": {
          "base_uri": "https://localhost:8080/",
          "height": 81
        },
        "id": "3lA7cgLBr5Jt",
        "outputId": "0f751408-522c-4a44-aeef-99fa8dbead29"
      },
      "execution_count": 19,
      "outputs": [
        {
          "output_type": "execute_result",
          "data": {
            "text/plain": [
              "     name   realm faction  rank  rating  played   won  lost  season_id   tier  \\\n",
              "5002  âzx  kazzak   horde     1    3815    4204  2478  1726         31  Elite   \n",
              "\n",
              "      win_rate  \n",
              "5002      58.9  "
            ],
            "text/html": [
              "\n",
              "  <div id=\"df-11635405-eb80-4b8b-a85d-392a239d719f\">\n",
              "    <div class=\"colab-df-container\">\n",
              "      <div>\n",
              "<style scoped>\n",
              "    .dataframe tbody tr th:only-of-type {\n",
              "        vertical-align: middle;\n",
              "    }\n",
              "\n",
              "    .dataframe tbody tr th {\n",
              "        vertical-align: top;\n",
              "    }\n",
              "\n",
              "    .dataframe thead th {\n",
              "        text-align: right;\n",
              "    }\n",
              "</style>\n",
              "<table border=\"1\" class=\"dataframe\">\n",
              "  <thead>\n",
              "    <tr style=\"text-align: right;\">\n",
              "      <th></th>\n",
              "      <th>name</th>\n",
              "      <th>realm</th>\n",
              "      <th>faction</th>\n",
              "      <th>rank</th>\n",
              "      <th>rating</th>\n",
              "      <th>played</th>\n",
              "      <th>won</th>\n",
              "      <th>lost</th>\n",
              "      <th>season_id</th>\n",
              "      <th>tier</th>\n",
              "      <th>win_rate</th>\n",
              "    </tr>\n",
              "  </thead>\n",
              "  <tbody>\n",
              "    <tr>\n",
              "      <th>5002</th>\n",
              "      <td>âzx</td>\n",
              "      <td>kazzak</td>\n",
              "      <td>horde</td>\n",
              "      <td>1</td>\n",
              "      <td>3815</td>\n",
              "      <td>4204</td>\n",
              "      <td>2478</td>\n",
              "      <td>1726</td>\n",
              "      <td>31</td>\n",
              "      <td>Elite</td>\n",
              "      <td>58.9</td>\n",
              "    </tr>\n",
              "  </tbody>\n",
              "</table>\n",
              "</div>\n",
              "      <button class=\"colab-df-convert\" onclick=\"convertToInteractive('df-11635405-eb80-4b8b-a85d-392a239d719f')\"\n",
              "              title=\"Convert this dataframe to an interactive table.\"\n",
              "              style=\"display:none;\">\n",
              "        \n",
              "  <svg xmlns=\"http://www.w3.org/2000/svg\" height=\"24px\"viewBox=\"0 0 24 24\"\n",
              "       width=\"24px\">\n",
              "    <path d=\"M0 0h24v24H0V0z\" fill=\"none\"/>\n",
              "    <path d=\"M18.56 5.44l.94 2.06.94-2.06 2.06-.94-2.06-.94-.94-2.06-.94 2.06-2.06.94zm-11 1L8.5 8.5l.94-2.06 2.06-.94-2.06-.94L8.5 2.5l-.94 2.06-2.06.94zm10 10l.94 2.06.94-2.06 2.06-.94-2.06-.94-.94-2.06-.94 2.06-2.06.94z\"/><path d=\"M17.41 7.96l-1.37-1.37c-.4-.4-.92-.59-1.43-.59-.52 0-1.04.2-1.43.59L10.3 9.45l-7.72 7.72c-.78.78-.78 2.05 0 2.83L4 21.41c.39.39.9.59 1.41.59.51 0 1.02-.2 1.41-.59l7.78-7.78 2.81-2.81c.8-.78.8-2.07 0-2.86zM5.41 20L4 18.59l7.72-7.72 1.47 1.35L5.41 20z\"/>\n",
              "  </svg>\n",
              "      </button>\n",
              "      \n",
              "  <style>\n",
              "    .colab-df-container {\n",
              "      display:flex;\n",
              "      flex-wrap:wrap;\n",
              "      gap: 12px;\n",
              "    }\n",
              "\n",
              "    .colab-df-convert {\n",
              "      background-color: #E8F0FE;\n",
              "      border: none;\n",
              "      border-radius: 50%;\n",
              "      cursor: pointer;\n",
              "      display: none;\n",
              "      fill: #1967D2;\n",
              "      height: 32px;\n",
              "      padding: 0 0 0 0;\n",
              "      width: 32px;\n",
              "    }\n",
              "\n",
              "    .colab-df-convert:hover {\n",
              "      background-color: #E2EBFA;\n",
              "      box-shadow: 0px 1px 2px rgba(60, 64, 67, 0.3), 0px 1px 3px 1px rgba(60, 64, 67, 0.15);\n",
              "      fill: #174EA6;\n",
              "    }\n",
              "\n",
              "    [theme=dark] .colab-df-convert {\n",
              "      background-color: #3B4455;\n",
              "      fill: #D2E3FC;\n",
              "    }\n",
              "\n",
              "    [theme=dark] .colab-df-convert:hover {\n",
              "      background-color: #434B5C;\n",
              "      box-shadow: 0px 1px 3px 1px rgba(0, 0, 0, 0.15);\n",
              "      filter: drop-shadow(0px 1px 2px rgba(0, 0, 0, 0.3));\n",
              "      fill: #FFFFFF;\n",
              "    }\n",
              "  </style>\n",
              "\n",
              "      <script>\n",
              "        const buttonEl =\n",
              "          document.querySelector('#df-11635405-eb80-4b8b-a85d-392a239d719f button.colab-df-convert');\n",
              "        buttonEl.style.display =\n",
              "          google.colab.kernel.accessAllowed ? 'block' : 'none';\n",
              "\n",
              "        async function convertToInteractive(key) {\n",
              "          const element = document.querySelector('#df-11635405-eb80-4b8b-a85d-392a239d719f');\n",
              "          const dataTable =\n",
              "            await google.colab.kernel.invokeFunction('convertToInteractive',\n",
              "                                                     [key], {});\n",
              "          if (!dataTable) return;\n",
              "\n",
              "          const docLinkHtml = 'Like what you see? Visit the ' +\n",
              "            '<a target=\"_blank\" href=https://colab.research.google.com/notebooks/data_table.ipynb>data table notebook</a>'\n",
              "            + ' to learn more about interactive tables.';\n",
              "          element.innerHTML = '';\n",
              "          dataTable['output_type'] = 'display_data';\n",
              "          await google.colab.output.renderOutput(dataTable, element);\n",
              "          const docLink = document.createElement('div');\n",
              "          docLink.innerHTML = docLinkHtml;\n",
              "          element.appendChild(docLink);\n",
              "        }\n",
              "      </script>\n",
              "    </div>\n",
              "  </div>\n",
              "  "
            ]
          },
          "metadata": {},
          "execution_count": 19
        }
      ]
    },
    {
      "cell_type": "markdown",
      "source": [
        "### *Who* holds the highest *win rate*?"
      ],
      "metadata": {
        "id": "r8c_XOwZ1ALz"
      }
    },
    {
      "cell_type": "code",
      "source": [
        "leaderboards.nlargest(1,'win_rate')"
      ],
      "metadata": {
        "colab": {
          "base_uri": "https://localhost:8080/",
          "height": 81
        },
        "id": "fCtUh8JF1C6e",
        "outputId": "f927d7d5-60a6-4f4a-9367-bde67d2dcbf8"
      },
      "execution_count": 20,
      "outputs": [
        {
          "output_type": "execute_result",
          "data": {
            "text/plain": [
              "             name       realm   faction  rank  rating  played  won  lost  \\\n",
              "16229  mitsutsuki  ravencrest  alliance  1207    2705      99   97     2   \n",
              "\n",
              "       season_id   tier  win_rate  \n",
              "16229         29  Elite      98.0  "
            ],
            "text/html": [
              "\n",
              "  <div id=\"df-df10e6f4-8acf-4e3a-a983-98965025e5a0\">\n",
              "    <div class=\"colab-df-container\">\n",
              "      <div>\n",
              "<style scoped>\n",
              "    .dataframe tbody tr th:only-of-type {\n",
              "        vertical-align: middle;\n",
              "    }\n",
              "\n",
              "    .dataframe tbody tr th {\n",
              "        vertical-align: top;\n",
              "    }\n",
              "\n",
              "    .dataframe thead th {\n",
              "        text-align: right;\n",
              "    }\n",
              "</style>\n",
              "<table border=\"1\" class=\"dataframe\">\n",
              "  <thead>\n",
              "    <tr style=\"text-align: right;\">\n",
              "      <th></th>\n",
              "      <th>name</th>\n",
              "      <th>realm</th>\n",
              "      <th>faction</th>\n",
              "      <th>rank</th>\n",
              "      <th>rating</th>\n",
              "      <th>played</th>\n",
              "      <th>won</th>\n",
              "      <th>lost</th>\n",
              "      <th>season_id</th>\n",
              "      <th>tier</th>\n",
              "      <th>win_rate</th>\n",
              "    </tr>\n",
              "  </thead>\n",
              "  <tbody>\n",
              "    <tr>\n",
              "      <th>16229</th>\n",
              "      <td>mitsutsuki</td>\n",
              "      <td>ravencrest</td>\n",
              "      <td>alliance</td>\n",
              "      <td>1207</td>\n",
              "      <td>2705</td>\n",
              "      <td>99</td>\n",
              "      <td>97</td>\n",
              "      <td>2</td>\n",
              "      <td>29</td>\n",
              "      <td>Elite</td>\n",
              "      <td>98.0</td>\n",
              "    </tr>\n",
              "  </tbody>\n",
              "</table>\n",
              "</div>\n",
              "      <button class=\"colab-df-convert\" onclick=\"convertToInteractive('df-df10e6f4-8acf-4e3a-a983-98965025e5a0')\"\n",
              "              title=\"Convert this dataframe to an interactive table.\"\n",
              "              style=\"display:none;\">\n",
              "        \n",
              "  <svg xmlns=\"http://www.w3.org/2000/svg\" height=\"24px\"viewBox=\"0 0 24 24\"\n",
              "       width=\"24px\">\n",
              "    <path d=\"M0 0h24v24H0V0z\" fill=\"none\"/>\n",
              "    <path d=\"M18.56 5.44l.94 2.06.94-2.06 2.06-.94-2.06-.94-.94-2.06-.94 2.06-2.06.94zm-11 1L8.5 8.5l.94-2.06 2.06-.94-2.06-.94L8.5 2.5l-.94 2.06-2.06.94zm10 10l.94 2.06.94-2.06 2.06-.94-2.06-.94-.94-2.06-.94 2.06-2.06.94z\"/><path d=\"M17.41 7.96l-1.37-1.37c-.4-.4-.92-.59-1.43-.59-.52 0-1.04.2-1.43.59L10.3 9.45l-7.72 7.72c-.78.78-.78 2.05 0 2.83L4 21.41c.39.39.9.59 1.41.59.51 0 1.02-.2 1.41-.59l7.78-7.78 2.81-2.81c.8-.78.8-2.07 0-2.86zM5.41 20L4 18.59l7.72-7.72 1.47 1.35L5.41 20z\"/>\n",
              "  </svg>\n",
              "      </button>\n",
              "      \n",
              "  <style>\n",
              "    .colab-df-container {\n",
              "      display:flex;\n",
              "      flex-wrap:wrap;\n",
              "      gap: 12px;\n",
              "    }\n",
              "\n",
              "    .colab-df-convert {\n",
              "      background-color: #E8F0FE;\n",
              "      border: none;\n",
              "      border-radius: 50%;\n",
              "      cursor: pointer;\n",
              "      display: none;\n",
              "      fill: #1967D2;\n",
              "      height: 32px;\n",
              "      padding: 0 0 0 0;\n",
              "      width: 32px;\n",
              "    }\n",
              "\n",
              "    .colab-df-convert:hover {\n",
              "      background-color: #E2EBFA;\n",
              "      box-shadow: 0px 1px 2px rgba(60, 64, 67, 0.3), 0px 1px 3px 1px rgba(60, 64, 67, 0.15);\n",
              "      fill: #174EA6;\n",
              "    }\n",
              "\n",
              "    [theme=dark] .colab-df-convert {\n",
              "      background-color: #3B4455;\n",
              "      fill: #D2E3FC;\n",
              "    }\n",
              "\n",
              "    [theme=dark] .colab-df-convert:hover {\n",
              "      background-color: #434B5C;\n",
              "      box-shadow: 0px 1px 3px 1px rgba(0, 0, 0, 0.15);\n",
              "      filter: drop-shadow(0px 1px 2px rgba(0, 0, 0, 0.3));\n",
              "      fill: #FFFFFF;\n",
              "    }\n",
              "  </style>\n",
              "\n",
              "      <script>\n",
              "        const buttonEl =\n",
              "          document.querySelector('#df-df10e6f4-8acf-4e3a-a983-98965025e5a0 button.colab-df-convert');\n",
              "        buttonEl.style.display =\n",
              "          google.colab.kernel.accessAllowed ? 'block' : 'none';\n",
              "\n",
              "        async function convertToInteractive(key) {\n",
              "          const element = document.querySelector('#df-df10e6f4-8acf-4e3a-a983-98965025e5a0');\n",
              "          const dataTable =\n",
              "            await google.colab.kernel.invokeFunction('convertToInteractive',\n",
              "                                                     [key], {});\n",
              "          if (!dataTable) return;\n",
              "\n",
              "          const docLinkHtml = 'Like what you see? Visit the ' +\n",
              "            '<a target=\"_blank\" href=https://colab.research.google.com/notebooks/data_table.ipynb>data table notebook</a>'\n",
              "            + ' to learn more about interactive tables.';\n",
              "          element.innerHTML = '';\n",
              "          dataTable['output_type'] = 'display_data';\n",
              "          await google.colab.output.renderOutput(dataTable, element);\n",
              "          const docLink = document.createElement('div');\n",
              "          docLink.innerHTML = docLinkHtml;\n",
              "          element.appendChild(docLink);\n",
              "        }\n",
              "      </script>\n",
              "    </div>\n",
              "  </div>\n",
              "  "
            ]
          },
          "metadata": {},
          "execution_count": 20
        }
      ]
    },
    {
      "cell_type": "markdown",
      "source": [
        "### Is the matchmaking algorithm well developed?\n",
        "The correlation coefficient, *r*, for the relationship between matches *won* and \n",
        "<br>\n",
        "matches *lost* would be a very good error metric for the\n",
        "<br>\n",
        "matchmaking algorithm if all ranked 3v3 players were included in the dataset.\n",
        "<br><br>\n",
        "Doesn't really work here though, as only the top 5k players are included for each season,\n",
        "<br>\n",
        "thereby excluding the players that lose a lot."
      ],
      "metadata": {
        "id": "_m1Ri7Dp2BPL"
      }
    },
    {
      "cell_type": "code",
      "source": [
        "r = leaderboards['won'].corr(leaderboards['lost'])\n",
        "if r > 0.95:\n",
        "  print('yes:',r)\n",
        "else:\n",
        "  print('no:',r)"
      ],
      "metadata": {
        "colab": {
          "base_uri": "https://localhost:8080/"
        },
        "id": "WWm2V14z4dS1",
        "outputId": "ee025327-fce4-4429-acf4-f51ae688344d"
      },
      "execution_count": 21,
      "outputs": [
        {
          "output_type": "stream",
          "name": "stdout",
          "text": [
            "yes: 0.9838289305531153\n"
          ]
        }
      ]
    },
    {
      "cell_type": "code",
      "source": [
        "plt.figure(figsize=(12,8))\n",
        "sns.scatterplot(data=leaderboards,x='lost',y='won',\n",
        "                hue='tier',linewidth=0,alpha=0.5);"
      ],
      "metadata": {
        "colab": {
          "base_uri": "https://localhost:8080/",
          "height": 497
        },
        "id": "imKk4YsO2E8q",
        "outputId": "b64265e0-9cbc-4f51-da38-f0fc890e7735"
      },
      "execution_count": 22,
      "outputs": [
        {
          "output_type": "display_data",
          "data": {
            "text/plain": [
              "<Figure size 864x576 with 1 Axes>"
            ],
            "image/png": "[encoded data removed]"
          },
          "metadata": {
            "needs_background": "light"
          }
        }
      ]
    },
    {
      "cell_type": "markdown",
      "source": [
        "### *Who's* the outlier?"
      ],
      "metadata": {
        "id": "xYmKWFIQ2z1P"
      }
    },
    {
      "cell_type": "code",
      "source": [
        "leaderboards[leaderboards['lost'] > 8000]"
      ],
      "metadata": {
        "colab": {
          "base_uri": "https://localhost:8080/",
          "height": 81
        },
        "id": "Qa9ocZ5c2xs6",
        "outputId": "88f4a1f7-47a9-447a-d558-9f5ac1136486"
      },
      "execution_count": 23,
      "outputs": [
        {
          "output_type": "execute_result",
          "data": {
            "text/plain": [
              "             name          realm faction  rank  rating  played    won  lost  \\\n",
              "5074  дракомелфой  howling-fjord   horde    71    3608   23456  14807  8649   \n",
              "\n",
              "      season_id   tier  win_rate  \n",
              "5074         31  Elite      63.1  "
            ],
            "text/html": [
              "\n",
              "  <div id=\"df-68c7284e-2c83-4f7f-87a5-2e49a7a536bd\">\n",
              "    <div class=\"colab-df-container\">\n",
              "      <div>\n",
              "<style scoped>\n",
              "    .dataframe tbody tr th:only-of-type {\n",
              "        vertical-align: middle;\n",
              "    }\n",
              "\n",
              "    .dataframe tbody tr th {\n",
              "        vertical-align: top;\n",
              "    }\n",
              "\n",
              "    .dataframe thead th {\n",
              "        text-align: right;\n",
              "    }\n",
              "</style>\n",
              "<table border=\"1\" class=\"dataframe\">\n",
              "  <thead>\n",
              "    <tr style=\"text-align: right;\">\n",
              "      <th></th>\n",
              "      <th>name</th>\n",
              "      <th>realm</th>\n",
              "      <th>faction</th>\n",
              "      <th>rank</th>\n",
              "      <th>rating</th>\n",
              "      <th>played</th>\n",
              "      <th>won</th>\n",
              "      <th>lost</th>\n",
              "      <th>season_id</th>\n",
              "      <th>tier</th>\n",
              "      <th>win_rate</th>\n",
              "    </tr>\n",
              "  </thead>\n",
              "  <tbody>\n",
              "    <tr>\n",
              "      <th>5074</th>\n",
              "      <td>дракомелфой</td>\n",
              "      <td>howling-fjord</td>\n",
              "      <td>horde</td>\n",
              "      <td>71</td>\n",
              "      <td>3608</td>\n",
              "      <td>23456</td>\n",
              "      <td>14807</td>\n",
              "      <td>8649</td>\n",
              "      <td>31</td>\n",
              "      <td>Elite</td>\n",
              "      <td>63.1</td>\n",
              "    </tr>\n",
              "  </tbody>\n",
              "</table>\n",
              "</div>\n",
              "      <button class=\"colab-df-convert\" onclick=\"convertToInteractive('df-68c7284e-2c83-4f7f-87a5-2e49a7a536bd')\"\n",
              "              title=\"Convert this dataframe to an interactive table.\"\n",
              "              style=\"display:none;\">\n",
              "        \n",
              "  <svg xmlns=\"http://www.w3.org/2000/svg\" height=\"24px\"viewBox=\"0 0 24 24\"\n",
              "       width=\"24px\">\n",
              "    <path d=\"M0 0h24v24H0V0z\" fill=\"none\"/>\n",
              "    <path d=\"M18.56 5.44l.94 2.06.94-2.06 2.06-.94-2.06-.94-.94-2.06-.94 2.06-2.06.94zm-11 1L8.5 8.5l.94-2.06 2.06-.94-2.06-.94L8.5 2.5l-.94 2.06-2.06.94zm10 10l.94 2.06.94-2.06 2.06-.94-2.06-.94-.94-2.06-.94 2.06-2.06.94z\"/><path d=\"M17.41 7.96l-1.37-1.37c-.4-.4-.92-.59-1.43-.59-.52 0-1.04.2-1.43.59L10.3 9.45l-7.72 7.72c-.78.78-.78 2.05 0 2.83L4 21.41c.39.39.9.59 1.41.59.51 0 1.02-.2 1.41-.59l7.78-7.78 2.81-2.81c.8-.78.8-2.07 0-2.86zM5.41 20L4 18.59l7.72-7.72 1.47 1.35L5.41 20z\"/>\n",
              "  </svg>\n",
              "      </button>\n",
              "      \n",
              "  <style>\n",
              "    .colab-df-container {\n",
              "      display:flex;\n",
              "      flex-wrap:wrap;\n",
              "      gap: 12px;\n",
              "    }\n",
              "\n",
              "    .colab-df-convert {\n",
              "      background-color: #E8F0FE;\n",
              "      border: none;\n",
              "      border-radius: 50%;\n",
              "      cursor: pointer;\n",
              "      display: none;\n",
              "      fill: #1967D2;\n",
              "      height: 32px;\n",
              "      padding: 0 0 0 0;\n",
              "      width: 32px;\n",
              "    }\n",
              "\n",
              "    .colab-df-convert:hover {\n",
              "      background-color: #E2EBFA;\n",
              "      box-shadow: 0px 1px 2px rgba(60, 64, 67, 0.3), 0px 1px 3px 1px rgba(60, 64, 67, 0.15);\n",
              "      fill: #174EA6;\n",
              "    }\n",
              "\n",
              "    [theme=dark] .colab-df-convert {\n",
              "      background-color: #3B4455;\n",
              "      fill: #D2E3FC;\n",
              "    }\n",
              "\n",
              "    [theme=dark] .colab-df-convert:hover {\n",
              "      background-color: #434B5C;\n",
              "      box-shadow: 0px 1px 3px 1px rgba(0, 0, 0, 0.15);\n",
              "      filter: drop-shadow(0px 1px 2px rgba(0, 0, 0, 0.3));\n",
              "      fill: #FFFFFF;\n",
              "    }\n",
              "  </style>\n",
              "\n",
              "      <script>\n",
              "        const buttonEl =\n",
              "          document.querySelector('#df-68c7284e-2c83-4f7f-87a5-2e49a7a536bd button.colab-df-convert');\n",
              "        buttonEl.style.display =\n",
              "          google.colab.kernel.accessAllowed ? 'block' : 'none';\n",
              "\n",
              "        async function convertToInteractive(key) {\n",
              "          const element = document.querySelector('#df-68c7284e-2c83-4f7f-87a5-2e49a7a536bd');\n",
              "          const dataTable =\n",
              "            await google.colab.kernel.invokeFunction('convertToInteractive',\n",
              "                                                     [key], {});\n",
              "          if (!dataTable) return;\n",
              "\n",
              "          const docLinkHtml = 'Like what you see? Visit the ' +\n",
              "            '<a target=\"_blank\" href=https://colab.research.google.com/notebooks/data_table.ipynb>data table notebook</a>'\n",
              "            + ' to learn more about interactive tables.';\n",
              "          element.innerHTML = '';\n",
              "          dataTable['output_type'] = 'display_data';\n",
              "          await google.colab.output.renderOutput(dataTable, element);\n",
              "          const docLink = document.createElement('div');\n",
              "          docLink.innerHTML = docLinkHtml;\n",
              "          element.appendChild(docLink);\n",
              "        }\n",
              "      </script>\n",
              "    </div>\n",
              "  </div>\n",
              "  "
            ]
          },
          "metadata": {},
          "execution_count": 23
        }
      ]
    },
    {
      "cell_type": "markdown",
      "source": [
        "### What does relationship between *rating* and matches *played* look like?\n",
        "The following scatterplot portrays:\n",
        "* matches *played* on the x-axis\n",
        "* the *rating* on the y-axis\n",
        "* the *tiers* on the \"z-axis\"\n",
        "* how the *ratings* are distributed amongst the *tiers* on the yz-plane"
      ],
      "metadata": {
        "id": "da34R7AN_Ngw"
      }
    },
    {
      "cell_type": "code",
      "source": [
        "plt.figure(figsize=(12,8))\n",
        "sns.scatterplot(data=leaderboards,x='played',y='rating',\n",
        "                hue='tier',linewidth=0,alpha=0.5);"
      ],
      "metadata": {
        "colab": {
          "base_uri": "https://localhost:8080/",
          "height": 497
        },
        "id": "LkA428C5-oNC",
        "outputId": "4c1199ca-f2e9-4262-9534-4b8e0d821d6a"
      },
      "execution_count": 24,
      "outputs": [
        {
          "output_type": "display_data",
          "data": {
            "text/plain": [
              "<Figure size 864x576 with 1 Axes>"
            ],
            "image/png": "[encoded data removed]"
          },
          "metadata": {
            "needs_background": "light"
          }
        }
      ]
    },
    {
      "cell_type": "markdown",
      "source": [
        "### How do the *win rates* compare with the *ratings*?"
      ],
      "metadata": {
        "id": "AoM5v2yOPPGi"
      }
    },
    {
      "cell_type": "code",
      "source": [
        "sns.jointplot(data=leaderboards,x='win_rate',y='rating',kind='hex');"
      ],
      "metadata": {
        "colab": {
          "base_uri": "https://localhost:8080/",
          "height": 441
        },
        "id": "8JormwESOPks",
        "outputId": "4bbba054-fa8d-4dc4-9d22-2152b423d7cd"
      },
      "execution_count": 25,
      "outputs": [
        {
          "output_type": "display_data",
          "data": {
            "text/plain": [
              "<Figure size 432x432 with 3 Axes>"
            ],
            "image/png": "[encoded data removed]"
          },
          "metadata": {
            "needs_background": "light"
          }
        }
      ]
    },
    {
      "cell_type": "markdown",
      "source": [
        "### Which *faction* has the highest mean *rating*?"
      ],
      "metadata": {
        "id": "FcWBflqOGhoh"
      }
    },
    {
      "cell_type": "code",
      "source": [
        "leaderboards.groupby('faction')['rating'].mean().nlargest(1)"
      ],
      "metadata": {
        "colab": {
          "base_uri": "https://localhost:8080/"
        },
        "id": "bdu8qKgQGmyZ",
        "outputId": "281b7745-9389-474e-bcd4-0f9ddd3d71a9"
      },
      "execution_count": 26,
      "outputs": [
        {
          "output_type": "execute_result",
          "data": {
            "text/plain": [
              "faction\n",
              "alliance    2468.960008\n",
              "Name: rating, dtype: float64"
            ]
          },
          "metadata": {},
          "execution_count": 26
        }
      ]
    },
    {
      "cell_type": "markdown",
      "source": [
        "### Which *realm* has the highest *rating* on average?"
      ],
      "metadata": {
        "id": "ZaBexhj8Ih9T"
      }
    },
    {
      "cell_type": "code",
      "source": [
        "top_realm = leaderboards.groupby('realm')['rating'].mean().nlargest(1)\n",
        "top_realm"
      ],
      "metadata": {
        "colab": {
          "base_uri": "https://localhost:8080/"
        },
        "id": "mG-TXxKWIk4d",
        "outputId": "e9250bd9-840a-4021-a289-952a989a97ed"
      },
      "execution_count": 27,
      "outputs": [
        {
          "output_type": "execute_result",
          "data": {
            "text/plain": [
              "realm\n",
              "suramar    2742.552632\n",
              "Name: rating, dtype: float64"
            ]
          },
          "metadata": {},
          "execution_count": 27
        }
      ]
    },
    {
      "cell_type": "markdown",
      "source": [
        "### Which *faction* dominates this *realm*?"
      ],
      "metadata": {
        "id": "FMxztf2KKHfE"
      }
    },
    {
      "cell_type": "code",
      "source": [
        "leaderboards[leaderboards['realm'] == top_realm.index[0]]['faction'].value_counts(normalize=True).nlargest(1)"
      ],
      "metadata": {
        "colab": {
          "base_uri": "https://localhost:8080/"
        },
        "id": "vas0AeJ-KPrR",
        "outputId": "ca0345fd-1729-40a2-be94-6579e466d7ae"
      },
      "execution_count": 28,
      "outputs": [
        {
          "output_type": "execute_result",
          "data": {
            "text/plain": [
              "alliance    0.710526\n",
              "Name: faction, dtype: float64"
            ]
          },
          "metadata": {},
          "execution_count": 28
        }
      ]
    }
  ]
}